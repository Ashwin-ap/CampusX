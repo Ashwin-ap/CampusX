{
  "nbformat": 4,
  "nbformat_minor": 0,
  "metadata": {
    "colab": {
      "provenance": []
    },
    "kernelspec": {
      "name": "python3",
      "display_name": "Python 3"
    },
    "language_info": {
      "name": "python"
    }
  },
  "cells": [
    {
      "cell_type": "markdown",
      "source": [
        "##`Q-1:` Rectangle Class\n",
        "1. Write a Rectangle class in Python language, allowing you to build a rectangle with length and width attributes.\n",
        "\n",
        "2. Create a Perimeter() method to calculate the perimeter of the rectangle and a Area() method to calculate the area of ​​the rectangle.\n",
        "\n",
        "3. Create a method display() that display the length, width, perimeter and area of an object created using an instantiation on rectangle class."
      ],
      "metadata": {
        "id": "FyUJ3PRAsPr4"
      }
    },
    {
      "cell_type": "markdown",
      "source": [
        "Eg.\n",
        "After making above classes and methods, on executing below code:-\n",
        "```\n",
        "my_rectangle = Rectangle(3 , 4)\n",
        "my_rectangle.display()\n",
        "```\n",
        "\n",
        "`Output:`\n",
        "```\n",
        "The length of rectangle is:  3\n",
        "The width of rectangle is:  4\n",
        "The perimeter of rectangle is:  14\n",
        "The area of rectangle is:  12\n",
        "```\n"
      ],
      "metadata": {
        "id": "GxUtOqJfssFK"
      }
    },
    {
      "cell_type": "code",
      "source": [
        "# write your code here\n",
        "\n",
        "class Rectangle:\n",
        "\n",
        "  def __init__(self,l,b):\n",
        "    self.__len = l\n",
        "    self.__wid = b\n",
        "\n",
        "  def __perimeter(self):\n",
        "    return 2*(self.__len + self.__wid)\n",
        "\n",
        "  def __area(self):\n",
        "    return self.__len*self.__wid\n",
        "\n",
        "  def display(self):\n",
        "    print('length', self.__len)\n",
        "    print('width', self.__wid)\n",
        "    print('perimeter', self.__perimeter())\n",
        "    print('area', self.__area())\n",
        "\n",
        "\n"
      ],
      "metadata": {
        "id": "92_QT-Uj6NBg"
      },
      "execution_count": null,
      "outputs": []
    },
    {
      "cell_type": "code",
      "source": [
        "rec1 = Rectangle(8,6)"
      ],
      "metadata": {
        "id": "MQentXz93RJq"
      },
      "execution_count": null,
      "outputs": []
    },
    {
      "cell_type": "code",
      "source": [
        "rec1.display()"
      ],
      "metadata": {
        "colab": {
          "base_uri": "https://localhost:8080/"
        },
        "id": "ULHa6JIj3lQv",
        "outputId": "af948006-8c2d-4a27-b896-eb6414e82b90"
      },
      "execution_count": null,
      "outputs": [
        {
          "output_type": "stream",
          "name": "stdout",
          "text": [
            "length 8\n",
            "width 6\n",
            "perimeter 28\n",
            "area 48\n"
          ]
        }
      ]
    },
    {
      "cell_type": "markdown",
      "source": [
        "##`Q-2: Bank Class`\n",
        "\n",
        "1. Create a Python class called `BankAccount` which represents a bank account, having as attributes: `accountNumber` (numeric type), `name` (name of the account owner as string type), `balance`.\n",
        "2. Create a constructor with parameters: `accountNumber, name, balance`.\n",
        "3. Create a `Deposit()` method which manages the deposit actions.\n",
        "4. Create a `Withdrawal()` method  which manages withdrawals actions.\n",
        "5. Create an `bankFees()` method to apply the bank fees with a percentage of 5% of the balance account.\n",
        "6. Create a `display()` method to display account details.\n",
        "Give the complete code for the  BankAccount class."
      ],
      "metadata": {
        "id": "r_GxrS0Vrdom"
      }
    },
    {
      "cell_type": "markdown",
      "source": [
        "Eg.\n",
        "After making above classes and methods, on executing below code:-\n",
        "```\n",
        "newAccount = BankAccount(2178514584, \"Mandy\" , 2800)\n",
        "\n",
        "newAccount.Withdrawal(700)\n",
        "\n",
        "newAccount.Deposit(1000)\n",
        "\n",
        "newAccount.display()\n",
        "```\n",
        "\n",
        "`Output:`\n",
        "```\n",
        "Account Number :  2178514584\n",
        "Account Name :  Mandy\n",
        "Account Balance :  3100 ₹\n",
        "```"
      ],
      "metadata": {
        "id": "qvVkOUJgvTV_"
      }
    },
    {
      "cell_type": "code",
      "source": [
        "# write your code here\n",
        "\n",
        "class BankAccount:\n",
        "\n",
        "  def __init__(self,acNo, name, balance):\n",
        "    self.__accountNumber = acNo\n",
        "    self.__name = name\n",
        "    self.__balance = balance\n",
        "\n",
        "  def deposit(self,amt):\n",
        "    self.__balance = self.__balance + amt\n",
        "\n",
        "  def withdrawal(self,amount):\n",
        "    if amount < self.__balance:\n",
        "      self.__balance = self.__balance - amount\n",
        "      reduction = self.__bankFees()\n",
        "      self.__balance = self.__balance - reduction\n",
        "    else:\n",
        "      print(\"Insufficient funds\")\n",
        "\n",
        "  def __bankFees(self):\n",
        "    return 0.05*self.__balance\n",
        "\n",
        "  def display(self):\n",
        "    print('Account Number : ', self.__accountNumber)\n",
        "    print('Account Name : ', self.__name)\n",
        "    print('Account Balance : ', self.__balance, '₹')"
      ],
      "metadata": {
        "id": "fUQOmQyA6YDR"
      },
      "execution_count": null,
      "outputs": []
    },
    {
      "cell_type": "code",
      "source": [
        "cust1 = BankAccount(173837267256, 'Ashwin', 1000000000000)"
      ],
      "metadata": {
        "id": "8lNtB_NZ-GGb"
      },
      "execution_count": null,
      "outputs": []
    },
    {
      "cell_type": "code",
      "source": [
        "cust1.deposit(599)\n",
        "cust1.withdrawal(600)\n",
        "cust1.display()"
      ],
      "metadata": {
        "colab": {
          "base_uri": "https://localhost:8080/"
        },
        "id": "lrcsjrtr-v-A",
        "outputId": "baf71a79-082f-4fb9-aa33-740014d02482"
      },
      "execution_count": null,
      "outputs": [
        {
          "output_type": "stream",
          "name": "stdout",
          "text": [
            "Account Number :  173837267256\n",
            "Account Name :  Ashwin\n",
            "Account Balance :  902499999998.1476 ₹\n"
          ]
        }
      ]
    },
    {
      "cell_type": "markdown",
      "source": [
        "##`Q-3:Computation class`\n",
        "\n",
        "1. Create a `Computation` class with a default constructor (without parameters) allowing to perform various calculations on integers numbers.\n",
        "2. Create a method called `Factorial()` which allows to calculate the factorial of an integer n. Integer n as parameter for this method\n",
        "\n",
        "3. Create a method called `naturalSum()` allowing to calculate the sum of the first n integers 1 + 2 + 3 + .. + n. Integer n as parameter for this method.\n",
        "\n",
        "4. Create a method called `testPrime()` in  the Calculation class to test the primality of a given integer n, n is Prime or Not? Integer n as parameter for this method.\n",
        "\n",
        "5. Create  a method called `testPrims()` allowing to test if two numbers are prime between them. Two integers are prime to one another if they have only `1` as their common divisor. Eg. 4 and 9 are prime to each other.\n",
        "\n",
        "5. Create a `tableMult()` method which creates and displays the multiplication table of a given integer. Then create an `allTablesMult()` method to display all the integer multiplication tables 1, 2, 3, ..., 9.\n",
        "\n",
        "6. Create a static `listDiv()` method that gets all the divisors of a given integer on new list called  Ldiv. Create another `listDivPrim()` method that gets all the prime divisors of a given integer."
      ],
      "metadata": {
        "id": "QovcQAZTrgGU"
      }
    },
    {
      "cell_type": "code",
      "source": [
        "# write your code here\n",
        "class Computation:\n",
        "    def __init__ (self):\n",
        "        pass\n",
        "\n",
        "    def factorial(self, n):\n",
        "        j = 1\n",
        "        for i in range (1, n + 1):\n",
        "            j = j * i\n",
        "        return j\n",
        "\n",
        "    def naturalSum(self, n):\n",
        "        j = 1\n",
        "        for i in range (1, n + 1):\n",
        "            j = j + i\n",
        "        return j\n",
        "\n",
        "    def testPrime(self, n):\n",
        "        j = 0\n",
        "        for i in range (1, n + 1):\n",
        "            if (n% i == 0):\n",
        "                j = j + 1\n",
        "        if (j == 2):\n",
        "            return True\n",
        "        else:\n",
        "            return False\n",
        "\n",
        "    def testPrims(self, n, m):\n",
        "        commonDiv = 0\n",
        "        for i in range (1, n + 1):\n",
        "            if (n% i == 0 and m% i == 0):\n",
        "                commonDiv = commonDiv + 1\n",
        "        if commonDiv == 1:\n",
        "            print (\"The numbers\", n, \"and\", m, \"are co-primes\")\n",
        "        else:\n",
        "            print (\"The numbers\", n, \"and\", m, \"are not co-primes\")\n",
        "\n",
        "    def tableMult(self, k):\n",
        "        for i in range (1,10):\n",
        "            print (i, \"x\", k, \"=\", i * k)\n",
        "\n",
        "    def allTables(self):\n",
        "        for k in range (1,10):\n",
        "            print (\"\\nthe multiplication table of:\", k, \"is:\")\n",
        "            for i in range (1,10):\n",
        "                print (i, \"x\", k, \"=\", i * k)\n",
        "\n",
        "    def listDivisor(self, n):\n",
        "        lDiv = []\n",
        "        for i in range (1, n + 1):\n",
        "            if (n% i == 0):\n",
        "                lDiv.append (i)\n",
        "        return lDiv\n",
        "\n",
        "    def listPrimeDivisor(self, n):\n",
        "        lDiv = []\n",
        "        for i in range (1, n + 1):\n",
        "            if (n% i == 0 and self.testPrime(i)):\n",
        "                lDiv.append(i)\n",
        "        return lDiv\n",
        "\n",
        "Comput= Computation ()\n",
        "Comput.testPrims(13, 7)\n",
        "print (\"List of divisors of 18:\", Comput.listDivisor(18))\n",
        "print (\"List of prime divisors of 18:\", Comput.listPrimeDivisor(18))\n",
        "Comput.allTables()"
      ],
      "metadata": {
        "id": "YEkPH70l6Z-o",
        "colab": {
          "base_uri": "https://localhost:8080/"
        },
        "outputId": "c311fc8a-2ac4-4ac2-9358-7d031408624e"
      },
      "execution_count": null,
      "outputs": [
        {
          "output_type": "stream",
          "name": "stdout",
          "text": [
            "The numbers 13 and 7 are co-primes\n",
            "List of divisors of 18: [1, 2, 3, 6, 9, 18]\n",
            "List of prime divisors of 18: [2, 3]\n",
            "\n",
            "the multiplication table of: 1 is:\n",
            "1 x 1 = 1\n",
            "2 x 1 = 2\n",
            "3 x 1 = 3\n",
            "4 x 1 = 4\n",
            "5 x 1 = 5\n",
            "6 x 1 = 6\n",
            "7 x 1 = 7\n",
            "8 x 1 = 8\n",
            "9 x 1 = 9\n",
            "\n",
            "the multiplication table of: 2 is:\n",
            "1 x 2 = 2\n",
            "2 x 2 = 4\n",
            "3 x 2 = 6\n",
            "4 x 2 = 8\n",
            "5 x 2 = 10\n",
            "6 x 2 = 12\n",
            "7 x 2 = 14\n",
            "8 x 2 = 16\n",
            "9 x 2 = 18\n",
            "\n",
            "the multiplication table of: 3 is:\n",
            "1 x 3 = 3\n",
            "2 x 3 = 6\n",
            "3 x 3 = 9\n",
            "4 x 3 = 12\n",
            "5 x 3 = 15\n",
            "6 x 3 = 18\n",
            "7 x 3 = 21\n",
            "8 x 3 = 24\n",
            "9 x 3 = 27\n",
            "\n",
            "the multiplication table of: 4 is:\n",
            "1 x 4 = 4\n",
            "2 x 4 = 8\n",
            "3 x 4 = 12\n",
            "4 x 4 = 16\n",
            "5 x 4 = 20\n",
            "6 x 4 = 24\n",
            "7 x 4 = 28\n",
            "8 x 4 = 32\n",
            "9 x 4 = 36\n",
            "\n",
            "the multiplication table of: 5 is:\n",
            "1 x 5 = 5\n",
            "2 x 5 = 10\n",
            "3 x 5 = 15\n",
            "4 x 5 = 20\n",
            "5 x 5 = 25\n",
            "6 x 5 = 30\n",
            "7 x 5 = 35\n",
            "8 x 5 = 40\n",
            "9 x 5 = 45\n",
            "\n",
            "the multiplication table of: 6 is:\n",
            "1 x 6 = 6\n",
            "2 x 6 = 12\n",
            "3 x 6 = 18\n",
            "4 x 6 = 24\n",
            "5 x 6 = 30\n",
            "6 x 6 = 36\n",
            "7 x 6 = 42\n",
            "8 x 6 = 48\n",
            "9 x 6 = 54\n",
            "\n",
            "the multiplication table of: 7 is:\n",
            "1 x 7 = 7\n",
            "2 x 7 = 14\n",
            "3 x 7 = 21\n",
            "4 x 7 = 28\n",
            "5 x 7 = 35\n",
            "6 x 7 = 42\n",
            "7 x 7 = 49\n",
            "8 x 7 = 56\n",
            "9 x 7 = 63\n",
            "\n",
            "the multiplication table of: 8 is:\n",
            "1 x 8 = 8\n",
            "2 x 8 = 16\n",
            "3 x 8 = 24\n",
            "4 x 8 = 32\n",
            "5 x 8 = 40\n",
            "6 x 8 = 48\n",
            "7 x 8 = 56\n",
            "8 x 8 = 64\n",
            "9 x 8 = 72\n",
            "\n",
            "the multiplication table of: 9 is:\n",
            "1 x 9 = 9\n",
            "2 x 9 = 18\n",
            "3 x 9 = 27\n",
            "4 x 9 = 36\n",
            "5 x 9 = 45\n",
            "6 x 9 = 54\n",
            "7 x 9 = 63\n",
            "8 x 9 = 72\n",
            "9 x 9 = 81\n"
          ]
        }
      ]
    },
    {
      "cell_type": "markdown",
      "source": [
        "##`Q-4`: Build flashcard using class in Python.\n",
        "\n",
        "Build a flashcard using class in python. A flashcard is a card having information on both sides, which can be used as an aid in memoization. Flashcards usually have a question on one side and an answer on the other.\n",
        "\n",
        "**Example 1:**\n",
        "\n",
        "Approach:\n",
        "\n",
        "- Create a class named FlashCard.\n",
        "- Initialize dictionary fruits using __init__() method. Here you have to define fruit name as key and it's color as value. E.g., {\"Banana\": \"yellow\", \"Strawberries\": \"pink\"}\n",
        "- Now randomly choose a pair from fruits by using _random_ module and store the key in variable _fruit_ and _value_ in variable color.\n",
        "- Now prompt the user to answer the color of the randomly chosen fruit.\n",
        "- If correct print correct else print wrong.\n",
        "\n",
        "Output:\n",
        "```bash\n",
        "welcome to fruit quiz\n",
        "What is the color of Strawberries\n",
        "pink\n",
        "Correct answer\n",
        "Enter 0, if you want to play again: 0\n",
        "What is the color of watermelon\n",
        "green\n",
        "Correct answer\n",
        "Enter 0, if you want to play again: 1\n",
        "```"
      ],
      "metadata": {
        "id": "0yn23_oEriXa"
      }
    },
    {
      "cell_type": "code",
      "source": [
        "import random\n",
        "\n",
        "class FlashCard:\n",
        "\n",
        "    def __init__(self):\n",
        "        self.__fruits = {\n",
        "            'apple':'red',\n",
        "            'banana':'yellow',\n",
        "            'watermelon':'green',\n",
        "            'strawberry':'pink',\n",
        "            'guava':'green'\n",
        "        }\n",
        "\n",
        "    def quiz(self):\n",
        "\n",
        "        while True:\n",
        "\n",
        "            fruit,color = random.choices(list(self.__fruits.items()))[0]\n",
        "\n",
        "            print('What is the color of {}'.format(fruit))\n",
        "            user_answer = input()\n",
        "\n",
        "            if user_answer.lower() == color:\n",
        "                print('Correct answer')\n",
        "            else:\n",
        "                print('Wrong answer')\n",
        "\n",
        "            option = int(input('Enter 0 to continue and 1 to exit'))\n",
        "\n",
        "            if option:\n",
        "                break\n",
        "\n",
        "print('Welcome to quiz')\n",
        "fc = FlashCard()\n",
        "fc.quiz()\n"
      ],
      "metadata": {
        "colab": {
          "base_uri": "https://localhost:8080/"
        },
        "id": "64Az-MhuRUZ5",
        "outputId": "976180ab-1ac3-4878-ad31-b40868e26598"
      },
      "execution_count": 10,
      "outputs": [
        {
          "name": "stdout",
          "output_type": "stream",
          "text": [
            "Welcome to quiz\n",
            "What is the color of guava\n",
            "green\n",
            "Correct answer\n",
            "Enter 0 to continue and 1 to exit0\n",
            "What is the color of banana\n",
            "ll\n",
            "Wrong answer\n",
            "Enter 0 to continue and 1 to exit0\n",
            "What is the color of apple\n",
            "red\n",
            "Correct answer\n",
            "Enter 0 to continue and 1 to exit1\n"
          ]
        }
      ]
    },
    {
      "cell_type": "markdown",
      "source": [
        "## `Q-5:` Problem 5 based on OOP Python.\n",
        "\n",
        "TechWorld, a technology training center, wants to allocate courses for instructors. An instructor is identified by name, technology skills, experience and average feedback. An instructor is allocated a course, if he/she satisfies the below two conditions:\n",
        "- eligibility criteria:\n",
        "    - if experience is more than 3 years, average feedback should be 4.5 or more\n",
        "    - if experience is 3 years or less, average feedback should be 4 or more\n",
        "- he/she should posses the technology skill for the course\n",
        "\n",
        "Identify the class name and attributes to represent instructors. Write a Python program to implement the class chosen with its attributes and methods.\n",
        "\n",
        "**Note:**\n",
        "- Consider all instance variables to be private and methods to be public.\n",
        "- An instructor may have multiple technology skills, so consider instance variable, technology_skill to be a list.\n",
        "- *check_eligibility()*: Return true if eligibility criteria is satisfied by the instructor. Else, return false\n",
        "- *allocate_course(technology)*: Return true if the course which requires the given technology can be allocated to the instructor. Else, return false.\n",
        "\n",
        "Represent a few objects of the class, initialize instance variables using setter methods, invoke\n",
        "appropriate methods and test your program."
      ],
      "metadata": {
        "id": "GN2r0jbRewYr"
      }
    },
    {
      "cell_type": "code",
      "source": [
        "# write your code here\n",
        "\n",
        "class TechWorld:\n",
        "\n",
        "  def __init__(self, name, tech_skill, exp, avg_f):\n",
        "    self.__name = name\n",
        "    self.__tech_skill = tech_skill\n",
        "    self.__exp = exp\n",
        "    self.__avg_f = avg_f\n",
        "\n",
        "\n",
        "  def check_eligibility(self):\n",
        "    if (self.__exp > 3) and (self.__avg_f >= 4.5):\n",
        "      return True\n",
        "    elif (self.__exp <= 3) and (self.__avg_f >= 4):\n",
        "      return True\n",
        "    else:\n",
        "      return False\n",
        "\n",
        "  def allocate_course(self, tech):\n",
        "\n",
        "    is_eligible = self.check_eligibility()\n",
        "\n",
        "    if is_eligible:\n",
        "      if tech in self.__tech_skill:\n",
        "        return \"Hired\"\n",
        "      else:\n",
        "        return \"Not Hired\"\n",
        "\n",
        "    else:\n",
        "      return 'Does not teach well'\n"
      ],
      "metadata": {
        "id": "pdMFuVFnlvKL"
      },
      "execution_count": 15,
      "outputs": []
    },
    {
      "cell_type": "code",
      "source": [
        "tw1 = TechWorld('Satish', ['DS', 'ML', 'CS'], 6, 3)"
      ],
      "metadata": {
        "id": "Y4x3ghDyUcBW"
      },
      "execution_count": 16,
      "outputs": []
    },
    {
      "cell_type": "code",
      "source": [
        "tw1.allocate_course('DS')"
      ],
      "metadata": {
        "colab": {
          "base_uri": "https://localhost:8080/",
          "height": 35
        },
        "id": "K7F43E3yUo08",
        "outputId": "d44d1ac0-3b43-45c1-eb6d-9e198cb708d4"
      },
      "execution_count": 17,
      "outputs": [
        {
          "output_type": "execute_result",
          "data": {
            "text/plain": [
              "'Does not teach well'"
            ],
            "application/vnd.google.colaboratory.intrinsic+json": {
              "type": "string"
            }
          },
          "metadata": {},
          "execution_count": 17
        }
      ]
    },
    {
      "cell_type": "code",
      "source": [],
      "metadata": {
        "id": "LSyIDoDxUuK_"
      },
      "execution_count": null,
      "outputs": []
    }
  ]
}