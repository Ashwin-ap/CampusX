{
  "nbformat": 4,
  "nbformat_minor": 0,
  "metadata": {
    "colab": {
      "provenance": []
    },
    "kernelspec": {
      "name": "python3",
      "display_name": "Python 3"
    },
    "language_info": {
      "name": "python"
    }
  },
  "cells": [
    {
      "cell_type": "markdown",
      "source": [
        "### `Problem 1`: Write a program that will give you in hand monthly salary after deduction on CTC - HRA(10%), DA(5%), PF(3%) and taxes deduction as below:\n",
        "\n",
        "> Salary(Lakhs) : Tax(%)\n",
        "\n",
        "*   Below 5 : 0%\n",
        "*   5-10 : 10%\n",
        "*   10-20 : 20%\n",
        "*   aboove 20 : 30%"
      ],
      "metadata": {
        "id": "w6RlOAXV2PWh"
      }
    },
    {
      "cell_type": "code",
      "source": [
        "# Input CTC (in Lakhs)\n",
        "ctc_lakhs = float(input(\"Enter your CTC in lakhs: \"))\n",
        "\n",
        "ctc = ctc_lakhs * 100000\n",
        "\n",
        "hra = 0.10 * ctc\n",
        "da = 0.05 * ctc\n",
        "pf = 0.03 * ctc\n",
        "total_deductions = hra + da + pf\n",
        "\n",
        "taxable_income = ctc - total_deductions\n",
        "if ctc < 500000:\n",
        "    tax_rate = 0\n",
        "elif ctc < 1000000:\n",
        "    tax_rate = 0.10\n",
        "elif ctc < 2000000:\n",
        "    tax_rate = 0.20\n",
        "else:\n",
        "    tax_rate = 0.30\n",
        "\n",
        "annual_tax = taxable_income * tax_rate\n",
        "in_hand_annual_salary = taxable_income - annual_tax\n",
        "in_hand_monthly_salary = in_hand_annual_salary / 12\n",
        "\n",
        "print(f\"In-hand Annual Salary: {in_hand_annual_salary:.2f} rupees\")\n",
        "print(f\"In-hand Monthly Salary: {in_hand_monthly_salary:.2f} rupees\")\n"
      ],
      "metadata": {
        "id": "7tMHvKYO2etI",
        "colab": {
          "base_uri": "https://localhost:8080/"
        },
        "outputId": "1b311d7b-b5ec-4c65-d8d2-7e9f13df54cc"
      },
      "execution_count": null,
      "outputs": [
        {
          "output_type": "stream",
          "name": "stdout",
          "text": [
            "Enter your CTC in lakhs: 5\n",
            "In-hand Annual Salary: 369000.00 rupees\n",
            "In-hand Monthly Salary: 30750.00 rupees\n"
          ]
        }
      ]
    },
    {
      "cell_type": "markdown",
      "source": [
        "### `Problem 2`: Write a program that take a user input of three angles and will find out whether it can form a triangle or not."
      ],
      "metadata": {
        "id": "tYzCGqwl2hfN"
      }
    },
    {
      "cell_type": "code",
      "source": [
        "# Write code here\n",
        "angle1 = int(input(\"Enter 1st angle:\"))\n",
        "angle2 = int(input(\"Enter 2nd angle:\"))\n",
        "angle3 = int(input(\"Enter 3rd angle:\"))\n",
        "\n",
        "if angle1 + angle2 + angle3 == 180:\n",
        "  print(\"Can form a Triangle\")\n",
        "else:\n",
        "  print(\"Cannot form a Triangle\")"
      ],
      "metadata": {
        "id": "FYEqln-I2kxV",
        "colab": {
          "base_uri": "https://localhost:8080/"
        },
        "outputId": "750eba73-e452-4ebc-a790-8fc3ab586506"
      },
      "execution_count": null,
      "outputs": [
        {
          "output_type": "stream",
          "name": "stdout",
          "text": [
            "Enter 1st angle:60\n",
            "Enter 2nd angle:60\n",
            "Enter 3rd angle:60\n",
            "Can form a Triangle\n"
          ]
        }
      ]
    },
    {
      "cell_type": "markdown",
      "source": [
        "### `Problem 3`: Write a program that will take user input of cost price and selling price and determines whether its a loss or a profit."
      ],
      "metadata": {
        "id": "5vEpPh8C2pE4"
      }
    },
    {
      "cell_type": "code",
      "source": [
        "# Write code here\n",
        "cost_price = float(input(\"Enter cost price:\"))\n",
        "selling_price = float(input(\"Enter selling price:\"))\n",
        "\n",
        "if selling_price > cost_price:\n",
        "  print(\"Profit\")\n",
        "elif selling_price < cost_price:\n",
        "  print(\"Loss\")"
      ],
      "metadata": {
        "id": "jDwBXlkO2sfl",
        "colab": {
          "base_uri": "https://localhost:8080/"
        },
        "outputId": "4e12e119-3480-443d-fe7b-a9d097158f35"
      },
      "execution_count": null,
      "outputs": [
        {
          "output_type": "stream",
          "name": "stdout",
          "text": [
            "Enter cost price:50\n",
            "Enter selling price:60\n",
            "Profit\n"
          ]
        }
      ]
    },
    {
      "cell_type": "markdown",
      "source": [
        "### `Problem 4`: Write a menu-driven program -\n",
        "1. cm to ft\n",
        "2. km to miles\n",
        "3. USD to INR\n",
        "4. exit"
      ],
      "metadata": {
        "id": "J_FG_cJW2ugT"
      }
    },
    {
      "cell_type": "code",
      "source": [
        "# Write code here\n",
        "while True:\n",
        "    print(\"\\nMenu:\")\n",
        "    print(\"1. Convert cm to ft\")\n",
        "    print(\"2. Convert km to miles\")\n",
        "    print(\"3. Convert USD to INR\")\n",
        "    print(\"4. Exit\")\n",
        "\n",
        "    choice = input(\"Enter your choice (1-4): \")\n",
        "\n",
        "    if choice == '1':\n",
        "        cm = float(input(\"Enter length in centimeters: \"))\n",
        "        ft = cm / 30.48\n",
        "        print(f\"{cm} cm is equal to {ft:.2f} feet.\")\n",
        "\n",
        "    elif choice == '2':\n",
        "        km = float(input(\"Enter distance in kilometers: \"))\n",
        "        miles = km * 0.621371\n",
        "        print(f\"{km} km is equal to {miles:.2f} miles.\")\n",
        "\n",
        "    elif choice == '3':\n",
        "        usd = float(input(\"Enter amount in USD: \"))\n",
        "        conversion_rate = 83.64\n",
        "        inr = usd * conversion_rate\n",
        "        print(f\"{usd} USD is equal to {inr:.2f} INR.\")\n",
        "\n",
        "    elif choice == '4':\n",
        "        print(\"Exiting the program.\")\n",
        "        break\n",
        "\n",
        "    else:\n",
        "        print(\"Invalid choice. Please enter a number between 1 and 4.\")\n"
      ],
      "metadata": {
        "id": "yBHhaCGQ2zpD",
        "colab": {
          "base_uri": "https://localhost:8080/"
        },
        "outputId": "74f65772-46ad-4074-ff80-94a68b867687"
      },
      "execution_count": null,
      "outputs": [
        {
          "output_type": "stream",
          "name": "stdout",
          "text": [
            "\n",
            "Menu:\n",
            "1. Convert cm to ft\n",
            "2. Convert km to miles\n",
            "3. Convert USD to INR\n",
            "4. Exit\n",
            "Enter your choice (1-4): 3\n",
            "Enter amount in USD: 50\n",
            "50.0 USD is equal to 4182.00 INR.\n",
            "\n",
            "Menu:\n",
            "1. Convert cm to ft\n",
            "2. Convert km to miles\n",
            "3. Convert USD to INR\n",
            "4. Exit\n",
            "Enter your choice (1-4): 4\n",
            "Exiting the program.\n"
          ]
        }
      ]
    },
    {
      "cell_type": "markdown",
      "source": [
        "### `Problem 5` - Exercise 12: Display Fibonacci series up to 10 terms.\n",
        "\n",
        "*Note: The Fibonacci Sequence is a series of numbers. The next number is found by adding up the two numbers before it. The first two numbers are 0 and 1. For example, 0, 1, 1, 2, 3, 5, 8, 13, 21. The next number in this series above is 13+21 = 34*"
      ],
      "metadata": {
        "id": "LJJ30_Yw27ZU"
      }
    },
    {
      "cell_type": "code",
      "source": [
        "# Write code here\n",
        "num_terms = 10\n",
        "\n",
        "n1, n2 = 0, 1\n",
        "count = 0\n",
        "print(\"Fibonacci sequence up to\", num_terms, \"terms:\")\n",
        "\n",
        "while count < num_terms:\n",
        "    print(n1, end=\" \")\n",
        "    nth = n1 + n2\n",
        "    n1 = n2\n",
        "    n2 = nth\n",
        "    count += 1"
      ],
      "metadata": {
        "id": "ae_1rpe52-5R",
        "colab": {
          "base_uri": "https://localhost:8080/"
        },
        "outputId": "9586b3fe-ea23-4df2-eaf5-98ab6a4a30f7"
      },
      "execution_count": null,
      "outputs": [
        {
          "output_type": "stream",
          "name": "stdout",
          "text": [
            "Fibonacci sequence up to 10 terms:\n",
            "0 1 1 2 3 5 8 13 21 34 "
          ]
        }
      ]
    },
    {
      "cell_type": "markdown",
      "source": [
        "### `Problem 6` - Find the factorial of a given number.\n",
        "\n",
        "Write a program to use the loop to find the factorial of a given number.\n",
        "\n",
        "The factorial (symbol: `!`) means to multiply all whole numbers from the chosen number down to 1.\n",
        "\n",
        "For example: calculate the factorial of 5\n",
        "\n",
        "```bash\n",
        "5! = 5 × 4 × 3 × 2 × 1 = 120\n",
        "```\n",
        "\n",
        "Output:\n",
        "\n",
        "```bash\n",
        "120\n",
        "```"
      ],
      "metadata": {
        "id": "pk_I_S4m3PT5"
      }
    },
    {
      "cell_type": "code",
      "source": [
        "# Write code here\n",
        "num = int(input(\"Enter the number to find its factorial\"))\n",
        "mul = 1\n",
        "for i in range(num,0,-1):\n",
        "  mul *= i\n",
        "print(mul)"
      ],
      "metadata": {
        "id": "lzXxHegx3Rkc",
        "colab": {
          "base_uri": "https://localhost:8080/"
        },
        "outputId": "6f92caa5-0fb3-401f-9bcb-c357e6353569"
      },
      "execution_count": null,
      "outputs": [
        {
          "output_type": "stream",
          "name": "stdout",
          "text": [
            "Enter the number to find its factorial12\n",
            "479001600\n"
          ]
        }
      ]
    },
    {
      "cell_type": "markdown",
      "source": [
        "### `Problem 7` - Reverse a given integer number.\n",
        "\n",
        "Example:\n",
        "\n",
        "`Input:`\n",
        "\n",
        "```bash\n",
        "76542\n",
        "```\n",
        "\n",
        "`Output:`\n",
        "\n",
        "```bash\n",
        "24567\n",
        "```"
      ],
      "metadata": {
        "id": "-17IOi-g3UpU"
      }
    },
    {
      "cell_type": "code",
      "source": [
        "# Write code here\n",
        "num = int(input(\"Enter a number: \"))\n",
        "rev = 0\n",
        "while num > 0:\n",
        "    digit = num % 10\n",
        "    rev = rev * 10 + digit\n",
        "    num //= 10\n",
        "print(\"Reversed number:\", rev)"
      ],
      "metadata": {
        "id": "wJwLpKCr3aVA",
        "colab": {
          "base_uri": "https://localhost:8080/"
        },
        "outputId": "e5068e39-ddb5-4f25-c903-ab0467c07918"
      },
      "execution_count": null,
      "outputs": [
        {
          "output_type": "stream",
          "name": "stdout",
          "text": [
            "Enter a number: 76542\n",
            "Reversed number: 24567\n"
          ]
        }
      ]
    },
    {
      "cell_type": "markdown",
      "source": [
        "### `Problem 8`: Take a user input as integer N. Find out the sum from 1 to N. If any number if divisible by 5, then skip that number. And if the sum is greater than 300, don't need to calculate the sum further more. Print the final result. And don't use for loop to solve this problem.\n",
        "\n",
        "**Example 1:**\n",
        "\n",
        "`Input:`\n",
        "\n",
        "```bash\n",
        "30\n",
        "```\n",
        "\n",
        "`Output:`\n",
        "\n",
        "```bash\n",
        "276\n",
        "```"
      ],
      "metadata": {
        "id": "-t8PJQaY3sHf"
      }
    },
    {
      "cell_type": "code",
      "source": [
        "num = int(input(\"Enter an integer : \"))\n",
        "\n",
        "sum_result = 0\n",
        "current_number = 1\n",
        "\n",
        "while current_number <= num and sum_result <= 300:\n",
        "    if current_number % 5 != 0:\n",
        "        sum_result += current_number\n",
        "    current_number += 1\n",
        "\n",
        "print(f\"The final sum is: {sum_result}\")\n"
      ],
      "metadata": {
        "id": "GZB6mGMP3ujT",
        "colab": {
          "base_uri": "https://localhost:8080/"
        },
        "outputId": "a874bc31-c75a-4e93-cef5-44fd1446350b"
      },
      "execution_count": null,
      "outputs": [
        {
          "output_type": "stream",
          "name": "stdout",
          "text": [
            "Enter an integer : 30\n",
            "The final sum is: 303\n"
          ]
        }
      ]
    },
    {
      "cell_type": "markdown",
      "source": [
        "### `Problem 9`: Write a program that keeps on accepting a number from the user until the user enters Zero. Display the sum and average of all the numbers."
      ],
      "metadata": {
        "id": "Q7ggImeA3xm4"
      }
    },
    {
      "cell_type": "code",
      "source": [
        "sum_numbers = 0\n",
        "count = 0\n",
        "\n",
        "while True:\n",
        "    number = float(input(\"Enter a number (enter 0 to stop): \"))\n",
        "    if number == 0:\n",
        "        break\n",
        "    sum_numbers += number\n",
        "    count += 1\n",
        "\n",
        "if count > 0:\n",
        "    average = sum_numbers / count\n",
        "else:\n",
        "    average = 0\n",
        "\n",
        "print(f\"\\nSum of all numbers: {sum_numbers}\")\n",
        "print(f\"Average of all numbers: {average}\")\n"
      ],
      "metadata": {
        "id": "t_YDSZDe4Kdo",
        "colab": {
          "base_uri": "https://localhost:8080/"
        },
        "outputId": "77987983-ad82-48ba-8477-8d3c38a9a046"
      },
      "execution_count": null,
      "outputs": [
        {
          "output_type": "stream",
          "name": "stdout",
          "text": [
            "Enter a number (enter 0 to stop): 5\n",
            "Enter a number (enter 0 to stop): 5\n",
            "Enter a number (enter 0 to stop): 0\n",
            "\n",
            "Sum of all numbers: 10.0\n",
            "Average of all numbers: 5.0\n"
          ]
        }
      ]
    },
    {
      "cell_type": "markdown",
      "source": [
        "###`Problem 9`: Write a program which will find all such numbers which are divisible by 7 but are not a multiple of 5, between 2000 and 3200 (both included). The numbers obtained should be printed in a comma-separated sequence on a single line."
      ],
      "metadata": {
        "id": "6EhvEMvm4R7s"
      }
    },
    {
      "cell_type": "code",
      "source": [
        "# Write code here\n",
        "first_number_printed = False\n",
        "for num in range(2000, 3201):\n",
        "    if num % 7 == 0 and num % 5 != 0:\n",
        "        if first_number_printed:\n",
        "            print(\",\", end=\"\")\n",
        "        print(num, end=\"\")\n",
        "        first_number_printed = True"
      ],
      "metadata": {
        "id": "d6RgP1B34T6c",
        "colab": {
          "base_uri": "https://localhost:8080/"
        },
        "outputId": "413ac6b5-c5ca-41b4-d7e9-efe7566586f1"
      },
      "execution_count": null,
      "outputs": [
        {
          "output_type": "stream",
          "name": "stdout",
          "text": [
            "2002,2009,2016,2023,2037,2044,2051,2058,2072,2079,2086,2093,2107,2114,2121,2128,2142,2149,2156,2163,2177,2184,2191,2198,2212,2219,2226,2233,2247,2254,2261,2268,2282,2289,2296,2303,2317,2324,2331,2338,2352,2359,2366,2373,2387,2394,2401,2408,2422,2429,2436,2443,2457,2464,2471,2478,2492,2499,2506,2513,2527,2534,2541,2548,2562,2569,2576,2583,2597,2604,2611,2618,2632,2639,2646,2653,2667,2674,2681,2688,2702,2709,2716,2723,2737,2744,2751,2758,2772,2779,2786,2793,2807,2814,2821,2828,2842,2849,2856,2863,2877,2884,2891,2898,2912,2919,2926,2933,2947,2954,2961,2968,2982,2989,2996,3003,3017,3024,3031,3038,3052,3059,3066,3073,3087,3094,3101,3108,3122,3129,3136,3143,3157,3164,3171,3178,3192,3199"
          ]
        }
      ]
    },
    {
      "cell_type": "markdown",
      "source": [
        "###`Problem 10`: Write a program, which will find all such numbers between 1000 and 3000 (both included) such that each digit of the number is an even number. The numbers obtained should be printed in a space-separated sequence on a single line.\n",
        "\n"
      ],
      "metadata": {
        "id": "tYvmRR-G4Vp4"
      }
    },
    {
      "cell_type": "code",
      "source": [
        "for num in range(1000, 3001):\n",
        "    str_num = str(num)\n",
        "    is_even_digits = True\n",
        "    for digit in str_num:\n",
        "        int_digit = int(digit)\n",
        "        if int_digit % 2 != 0:\n",
        "            is_even_digits = False\n",
        "            break\n",
        "    if is_even_digits:\n",
        "        print(num, end=\" \")"
      ],
      "metadata": {
        "colab": {
          "base_uri": "https://localhost:8080/"
        },
        "id": "56VHzwAE1s_-",
        "outputId": "12bf7fbd-227b-4488-dd2f-9e3a5f513e44"
      },
      "execution_count": null,
      "outputs": [
        {
          "output_type": "stream",
          "name": "stdout",
          "text": [
            "2000 2002 2004 2006 2008 2020 2022 2024 2026 2028 2040 2042 2044 2046 2048 2060 2062 2064 2066 2068 2080 2082 2084 2086 2088 2200 2202 2204 2206 2208 2220 2222 2224 2226 2228 2240 2242 2244 2246 2248 2260 2262 2264 2266 2268 2280 2282 2284 2286 2288 2400 2402 2404 2406 2408 2420 2422 2424 2426 2428 2440 2442 2444 2446 2448 2460 2462 2464 2466 2468 2480 2482 2484 2486 2488 2600 2602 2604 2606 2608 2620 2622 2624 2626 2628 2640 2642 2644 2646 2648 2660 2662 2664 2666 2668 2680 2682 2684 2686 2688 2800 2802 2804 2806 2808 2820 2822 2824 2826 2828 2840 2842 2844 2846 2848 2860 2862 2864 2866 2868 2880 2882 2884 2886 2888 "
          ]
        }
      ]
    },
    {
      "cell_type": "markdown",
      "source": [
        "###`Problem 11`: A robot moves in a plane starting from the original point (0,0). The robot can move toward UP, DOWN, LEFT and RIGHT with a given steps.\n",
        "The trace of robot movement is shown as the following:\n",
        "```\n",
        "UP 5\n",
        "DOWN 3\n",
        "LEFT 3\n",
        "RIGHT 2\n",
        "!\n",
        "```\n",
        "> The numbers after the direction are steps.\n",
        "\n",
        "> `!` means robot stop there.\n",
        "\n",
        "**Please write a program to compute the distance from current position after a sequence of movement and original point.**\n",
        "\n",
        "*If the distance is a float, then just print the nearest integer.*\n",
        "\n",
        "Example:\n",
        "\n",
        "`Input`:\n",
        "```\n",
        "UP 5\n",
        "DOWN 3\n",
        "LEFT 3\n",
        "RIGHT 2\n",
        "!\n",
        "```\n",
        "`Output`:\n",
        "```\n",
        "2\n",
        "```"
      ],
      "metadata": {
        "id": "GV18IINT4mf5"
      }
    },
    {
      "cell_type": "code",
      "source": [
        "import math\n",
        "\n",
        "x, y = 0, 0\n",
        "\n",
        "while True:\n",
        "    movement = input()\n",
        "    if movement == \"!\":\n",
        "        break\n",
        "    direction, steps = movement.split()\n",
        "    steps = int(steps)\n",
        "\n",
        "    if direction == \"UP\":\n",
        "        y += steps\n",
        "    elif direction == \"DOWN\":\n",
        "        y -= steps\n",
        "    elif direction == \"LEFT\":\n",
        "        x -= steps\n",
        "    elif direction == \"RIGHT\":\n",
        "        x += steps\n",
        "\n",
        "distance = math.sqrt(x**2 + y**2)\n",
        "print(round(distance))"
      ],
      "metadata": {
        "id": "6UNMC2aR4w5x",
        "colab": {
          "base_uri": "https://localhost:8080/"
        },
        "outputId": "92215a44-bd79-414e-e7be-153ee56ded2a"
      },
      "execution_count": 3,
      "outputs": [
        {
          "output_type": "stream",
          "name": "stdout",
          "text": [
            "UP 5\n",
            "DOWN 3\n",
            "LEFT 3\n",
            "RIGHT 2\n",
            "!\n",
            "2\n"
          ]
        }
      ]
    },
    {
      "cell_type": "markdown",
      "source": [
        "###`Problem 12`:Write a program to print whether a given number is a prime number or not"
      ],
      "metadata": {
        "id": "3fsAIAhK5GYY"
      }
    },
    {
      "cell_type": "code",
      "source": [
        "number = int(input(\"Enter a number: \"))\n",
        "\n",
        "if number < 2:\n",
        "    print(\"Not a prime number\")\n",
        "else:\n",
        "    is_prime = True\n",
        "    for i in range(2, int(number ** 0.5) + 1):\n",
        "        if number % i == 0:\n",
        "            is_prime = False\n",
        "            break\n",
        "    if is_prime:\n",
        "        print(\"Prime number\")\n",
        "    else:\n",
        "        print(\"Not a prime number\")\n"
      ],
      "metadata": {
        "id": "j6y91lxy5LZs",
        "colab": {
          "base_uri": "https://localhost:8080/"
        },
        "outputId": "50b1e053-233a-4ffc-9b9b-8542404b4443"
      },
      "execution_count": 12,
      "outputs": [
        {
          "output_type": "stream",
          "name": "stdout",
          "text": [
            "Enter a number: 7\n",
            "Prime number\n"
          ]
        }
      ]
    },
    {
      "cell_type": "markdown",
      "source": [
        "###`Problem 13`:Print all the Armstrong numbers in a given range.\n",
        "Range will be provided by the user<br>\n",
        "Armstrong number is a number that is equal to the sum of cubes of its digits. For example 0, 1, 153, 370, 371 and 407 are the Armstrong numbers."
      ],
      "metadata": {
        "id": "asAbmbK-5NHv"
      }
    },
    {
      "cell_type": "code",
      "source": [
        "start = int(input(\"Enter the start of the range: \"))\n",
        "end = int(input(\"Enter the end of the range: \"))\n",
        "\n",
        "def is_armstrong(number):\n",
        "    digits = [int(d) for d in str(number)]\n",
        "    return sum(d ** 3 for d in digits) == number\n",
        "\n",
        "print(f\"Armstrong numbers between {start} and {end}:\")\n",
        "for num in range(start, end + 1):\n",
        "    if is_armstrong(num):\n",
        "        print(num)\n"
      ],
      "metadata": {
        "id": "PZuI67pm5jCT",
        "colab": {
          "base_uri": "https://localhost:8080/"
        },
        "outputId": "903a6cb0-1c99-4103-d679-d95a4ef12274"
      },
      "execution_count": 15,
      "outputs": [
        {
          "output_type": "stream",
          "name": "stdout",
          "text": [
            "Enter the start of the range: 0\n",
            "Enter the end of the range: 500\n",
            "Armstrong numbers between 0 and 500:\n",
            "0\n",
            "1\n",
            "153\n",
            "370\n",
            "371\n",
            "407\n"
          ]
        }
      ]
    },
    {
      "cell_type": "markdown",
      "source": [
        "###`Problem 14`:Calculate the angle between the hour hand and minute hand.\n",
        "\n",
        "Note: There can be two angles between hands; we need to print a minimum of two. Also, we need to print the floor of the final result angle. For example, if the final angle is 10.61, we need to print 10.\n",
        "\n",
        "Input:<br>\n",
        "H = 9 , M = 0<br>\n",
        "Output:<br>\n",
        "90<br>\n",
        "Explanation:<br>\n",
        "The minimum angle between hour and minute\n",
        "hand when the time is 9 is 90 degress."
      ],
      "metadata": {
        "id": "ClCQZMqT7gK0"
      }
    },
    {
      "cell_type": "code",
      "source": [
        "# Write code here\n",
        "H = int(input(\"Enter hours: \"))\n",
        "M = int(input(\"Enter minutes: \"))\n",
        "H = H % 12\n",
        "minute_angle = M * 6\n",
        "hour_angle = (H * 30) + (M * 0.5)\n",
        "angle = abs(hour_angle - minute_angle)\n",
        "\n",
        "min_angle = min(angle, 360 - angle)\n",
        "print(int(min_angle))\n"
      ],
      "metadata": {
        "id": "tNBTCZML7jy_",
        "colab": {
          "base_uri": "https://localhost:8080/"
        },
        "outputId": "7b2c4f7d-c030-4c33-ae39-c37481524694"
      },
      "execution_count": 17,
      "outputs": [
        {
          "output_type": "stream",
          "name": "stdout",
          "text": [
            "Enter hours: 9\n",
            "Enter minutes: 0\n",
            "90\n"
          ]
        }
      ]
    },
    {
      "cell_type": "markdown",
      "source": [
        "###`Problem 15`:Given two rectangles, find if the given two rectangles overlap or not. A rectangle is denoted by providing the x and y coordinates of two points: the left top corner and the right bottom corner of the rectangle. Two rectangles sharing a side are considered overlapping. (L1 and R1 are the extreme points of the first rectangle and L2 and R2 are the extreme points of the second rectangle).\n",
        "\n",
        "Note: It may be assumed that the rectangles are parallel to the coordinate axis.\n",
        "\n",
        "<img src='https://www.geeksforgeeks.org/wp-content/uploads/rectanglesOverlap.png' width='300' height='200'>"
      ],
      "metadata": {
        "id": "GwacF9Co72Qc"
      }
    },
    {
      "cell_type": "code",
      "source": [
        "# Write code here\n",
        "# Input coordinates for the first rectangle\n",
        "L1_x = int(input(\"Enter the x-coordinate of the left top corner of the first rectangle (L1_x): \"))\n",
        "L1_y = int(input(\"Enter the y-coordinate of the left top corner of the first rectangle (L1_y): \"))\n",
        "R1_x = int(input(\"Enter the x-coordinate of the right bottom corner of the first rectangle (R1_x): \"))\n",
        "R1_y = int(input(\"Enter the y-coordinate of the right bottom corner of the first rectangle (R1_y): \"))\n",
        "\n",
        "# Input coordinates for the second rectangle\n",
        "L2_x = int(input(\"Enter the x-coordinate of the left top corner of the second rectangle (L2_x): \"))\n",
        "L2_y = int(input(\"Enter the y-coordinate of the left top corner of the second rectangle (L2_y): \"))\n",
        "R2_x = int(input(\"Enter the x-coordinate of the right bottom corner of the second rectangle (R2_x): \"))\n",
        "R2_y = int(input(\"Enter the y-coordinate of the right bottom corner of the second rectangle (R2_y): \"))\n",
        "\n",
        "# Check if one rectangle is to the left of the other\n",
        "if L1_x > R2_x or L2_x > R1_x:\n",
        "    print(\"Rectangles do not overlap\")\n",
        "# Check if one rectangle is above the other\n",
        "elif L1_y < R2_y or L2_y < R1_y:\n",
        "    print(\"Rectangles do not overlap\")\n",
        "else:\n",
        "    print(\"Rectangles overlap\")\n"
      ],
      "metadata": {
        "id": "6rrw_lpH78Rs",
        "colab": {
          "base_uri": "https://localhost:8080/"
        },
        "outputId": "a8406361-846b-4373-ddb6-06c645f688af"
      },
      "execution_count": 18,
      "outputs": [
        {
          "output_type": "stream",
          "name": "stdout",
          "text": [
            "Enter the x-coordinate of the left top corner of the first rectangle (L1_x): 0\n",
            "Enter the y-coordinate of the left top corner of the first rectangle (L1_y): 10\n",
            "Enter the x-coordinate of the right bottom corner of the first rectangle (R1_x): 10\n",
            "Enter the y-coordinate of the right bottom corner of the first rectangle (R1_y): 0\n",
            "Enter the x-coordinate of the left top corner of the second rectangle (L2_x): 5\n",
            "Enter the y-coordinate of the left top corner of the second rectangle (L2_y): 5\n",
            "Enter the x-coordinate of the right bottom corner of the second rectangle (R2_x): 15\n",
            "Enter the y-coordinate of the right bottom corner of the second rectangle (R2_y): -5\n",
            "Rectangles overlap\n"
          ]
        }
      ]
    },
    {
      "cell_type": "code",
      "source": [],
      "metadata": {
        "id": "3hnYP6y34MRm"
      },
      "execution_count": null,
      "outputs": []
    }
  ]
}