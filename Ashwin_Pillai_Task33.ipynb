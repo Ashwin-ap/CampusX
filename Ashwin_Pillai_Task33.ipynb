{
  "nbformat": 4,
  "nbformat_minor": 0,
  "metadata": {
    "colab": {
      "provenance": []
    },
    "kernelspec": {
      "name": "python3",
      "display_name": "Python 3"
    },
    "language_info": {
      "name": "python"
    }
  },
  "cells": [
    {
      "cell_type": "markdown",
      "source": [
        "Q1. SELECT AVG(`Sleep duration`)\n",
        "from sleep\n",
        "where `Sleep duration`>=7.5 AND Gender='Male'\n",
        "ORDER BY `Sleep duration` DESC LIMIT 15"
      ],
      "metadata": {
        "id": "K2gsvI4BQHOF"
      }
    },
    {
      "cell_type": "markdown",
      "source": [
        "Q2. SELECT Gender, ROUND(AVG(`Sleep duration` * (`Deep sleep percentage`/100)),2) AS 'avg_deep_sleep'\n",
        "FROM sleep\n",
        "GROUP BY Gender;"
      ],
      "metadata": {
        "id": "L4GhY-eEQMwO"
      }
    },
    {
      "cell_type": "markdown",
      "source": [
        "Q3. SELECT AGE, `Light sleep percentage`, `Deep sleep percentage`\n",
        "from sleep\n",
        "WHERE `Deep sleep percentage` BETWEEN 25 AND 45\n",
        "ORDER BY `Light sleep percentage` asc LIMIT 10, 20;"
      ],
      "metadata": {
        "id": "4xCVlZoHQM-P"
      }
    },
    {
      "cell_type": "markdown",
      "source": [
        "Q4. SELECT AVG(`Sleep duration` * (`Deep sleep percentage`/100)),\n",
        "AVG(`Sleep duration` * (`Light sleep percentage`)/100),\n",
        "avg(`Sleep duration` * (`REM sleep percentage`)/100)\n",
        "from sleep\n",
        "group by `Exercise frequency`, `Smoking status`"
      ],
      "metadata": {
        "id": "Uc4ZNZ4bQNLG"
      }
    },
    {
      "cell_type": "markdown",
      "source": [
        "Q5. SELECT \tAwakenings,\n",
        "AVG(`Caffeine consumption`),\n",
        "AVG(`Sleep duration` * (`Deep sleep percentage`)/100),\n",
        "AVG(`Alcohol consumption`)\n",
        "FROM sleep\n",
        "WHERE `Exercise frequency` >=3\n",
        "GROUP BY Awakenings\n",
        "ORDER BY Awakenings DESC"
      ],
      "metadata": {
        "id": "otLDr1aRQNXF"
      }
    },
    {
      "cell_type": "markdown",
      "source": [
        "Q6. SELECT `Power Station`\n",
        "AVG(`Monitored Cap.(MW)`) AS 'Avg_Capacity',\n",
        "COUNT(*) AS 'Times'\n",
        "FROM power\n",
        "GROUP BY `Power Station`\n",
        "HAVING (Avg_Capacity BETWEEN 1000 AND 2000) AND Times>200\n",
        "ORDER BY Avg_Capacity DESC;"
      ],
      "metadata": {
        "id": "1EEFhbU7QOdL"
      }
    },
    {
      "cell_type": "markdown",
      "source": [
        "Q7.SELECT State, AVG(Value) AS 'avg_value', Count(*) AS 'Count'\n",
        "FROM clg\n",
        "WHERE Year IN (2013,2017,2021) AND Type='Public In-State'\n",
        "GROUP BY State\n",
        "HAVING Count BETWEEN 6 AND 10\n",
        "ORDER BY avg_value LIMIT 10"
      ],
      "metadata": {
        "id": "1jekod0iQOox"
      }
    },
    {
      "cell_type": "markdown",
      "source": [
        "Q8. SELECT, AVG(Value) FROM clg\n",
        "WHERE Type LIKE '%Public%' AND Expense LIKE '%Tution%'\n",
        "GROUP BY State\n",
        "ORDER BY AVG(Value) asc LIMIT 1\n"
      ],
      "metadata": {
        "id": "AM3a2-W4QOyr"
      }
    },
    {
      "cell_type": "markdown",
      "source": [
        "Q9. SELECT State, AVG(Value)\n",
        "from clg\n",
        "WHERE Year = 2021 AND Type LIKE '%Private%'\n",
        "GROUP BY State\n",
        "ORDER BY AVG(Value) DESC LIMIT 1,1"
      ],
      "metadata": {
        "id": "2bBe62PGQO67"
      }
    },
    {
      "cell_type": "markdown",
      "source": [
        "Q10. SELECT Mode_of_Shipment,Warehouse_block,\n",
        "SUM(Discount_offered), AVG(Discount_offered)\n",
        "FROM shipment\n",
        "WHERE Gender = 'M' AND Product_importance='high'\n",
        "GROUP BY Mode_of_Shipment,Warehouse_block\n",
        "ORDER BY Mode_of_Shipment DESC, Warehouse_block ASC"
      ],
      "metadata": {
        "id": "Y94YVVxOQPCo"
      }
    }
  ]
}