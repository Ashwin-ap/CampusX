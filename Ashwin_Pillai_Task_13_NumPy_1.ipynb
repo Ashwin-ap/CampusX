{
  "nbformat": 4,
  "nbformat_minor": 0,
  "metadata": {
    "colab": {
      "provenance": []
    },
    "kernelspec": {
      "name": "python3",
      "display_name": "Python 3"
    },
    "language_info": {
      "name": "python"
    }
  },
  "cells": [
    {
      "cell_type": "markdown",
      "source": [
        "**Note: In Data Science googling is a very important skill. If you find some difficulties to solve the problem, google it and try to find some clues to solve.**"
      ],
      "metadata": {
        "id": "6WdKdPGx-tnY"
      }
    },
    {
      "cell_type": "code",
      "source": [
        "import numpy as np"
      ],
      "metadata": {
        "id": "-J4F1ysN4mLk"
      },
      "execution_count": null,
      "outputs": []
    },
    {
      "cell_type": "markdown",
      "source": [
        "###`Q-1` Create a null vector of size 10 but the fifth value which is 1.\n",
        "\n"
      ],
      "metadata": {
        "id": "a_K8IH-C6HDK"
      }
    },
    {
      "cell_type": "code",
      "source": [
        "a = np.nan * np.empty(10)\n",
        "a[4] = 1\n",
        "print(a)"
      ],
      "metadata": {
        "id": "sTF03KsZ6QUI",
        "colab": {
          "base_uri": "https://localhost:8080/"
        },
        "outputId": "c3e98ace-c982-4f13-a00f-d19b65a44b61"
      },
      "execution_count": null,
      "outputs": [
        {
          "output_type": "stream",
          "name": "stdout",
          "text": [
            "[nan nan nan nan  1. nan nan nan nan nan]\n"
          ]
        }
      ]
    },
    {
      "cell_type": "markdown",
      "source": [
        "###`Q-2` Ask user to input two numbers a, b. Write a program to generate a random array of shape (a, b) and print the array and avg of the array."
      ],
      "metadata": {
        "id": "TEiG25rS6S1i"
      }
    },
    {
      "cell_type": "code",
      "source": [
        "#Code here\n",
        "\n",
        "a,b = map(int, input('Enter values of a and b').split())\n",
        "\n",
        "arr = np.random.random((a,b))\n",
        "print(arr)\n",
        "print(np.mean(arr))"
      ],
      "metadata": {
        "id": "ihwn4oOH6Vh7",
        "colab": {
          "base_uri": "https://localhost:8080/"
        },
        "outputId": "1214dff6-c2d6-406d-b787-0aa03b879b70"
      },
      "execution_count": null,
      "outputs": [
        {
          "output_type": "stream",
          "name": "stdout",
          "text": [
            "Enter values of a and b2 5\n",
            "[[0.2323586  0.71154286 0.71909359 0.92384629 0.16812118]\n",
            " [0.09808929 0.06115183 0.68813771 0.62964194 0.89725861]]\n",
            "0.5129241893066983\n"
          ]
        }
      ]
    },
    {
      "cell_type": "markdown",
      "source": [
        "###`Q-3`Write a function to create a 2d array with 1 on the border and 0 inside. Take 2-D array shape as (a,b) as parameter to function.\n",
        "\n",
        "Eg.-\n",
        "```\n",
        "[[1,1,1,1],\n",
        "[1,0,0,1],\n",
        "[1,0,0,1],\n",
        "[1,1,1,1]]\n",
        "```"
      ],
      "metadata": {
        "id": "2iEeybS06ZSq"
      }
    },
    {
      "cell_type": "code",
      "source": [
        "#Code here\n",
        "def border(a,b):\n",
        "  arr = np.ones((a,b))\n",
        "  arr[1:-1, 1:-1] = 0\n",
        "  return arr\n",
        "\n",
        "print(border(4,5))"
      ],
      "metadata": {
        "id": "gEKndkDU6ZSs",
        "colab": {
          "base_uri": "https://localhost:8080/"
        },
        "outputId": "12d2b0dc-a534-43a7-a562-65eb0e13cbb2"
      },
      "execution_count": null,
      "outputs": [
        {
          "output_type": "stream",
          "name": "stdout",
          "text": [
            "[[1. 1. 1. 1. 1.]\n",
            " [1. 0. 0. 0. 1.]\n",
            " [1. 0. 0. 0. 1.]\n",
            " [1. 1. 1. 1. 1.]]\n"
          ]
        }
      ]
    },
    {
      "cell_type": "markdown",
      "source": [
        "###`Q-4` Create a vector of size 10 with values ranging from 0 to 1, both excluded.\n"
      ],
      "metadata": {
        "id": "QRJicQ8j6ZlE"
      }
    },
    {
      "cell_type": "code",
      "source": [
        "#Code here\n",
        "np.linspace(0,1,12)[1:-1]"
      ],
      "metadata": {
        "id": "eC4XLhDq6ZlF",
        "colab": {
          "base_uri": "https://localhost:8080/"
        },
        "outputId": "1fbd3149-5256-481d-ef7e-1b792480b90b"
      },
      "execution_count": null,
      "outputs": [
        {
          "output_type": "execute_result",
          "data": {
            "text/plain": [
              "array([0.09090909, 0.18181818, 0.27272727, 0.36363636, 0.45454545,\n",
              "       0.54545455, 0.63636364, 0.72727273, 0.81818182, 0.90909091])"
            ]
          },
          "metadata": {},
          "execution_count": 11
        }
      ]
    },
    {
      "cell_type": "markdown",
      "source": [
        "###`Q-5` Can you create a identity mattrix of shape (3,4). If yes write code for it."
      ],
      "metadata": {
        "id": "vb4jK4yQ6Zs2"
      }
    },
    {
      "cell_type": "code",
      "source": [
        "# No cannot be made"
      ],
      "metadata": {
        "id": "DTV_AbMS6Zs4"
      },
      "execution_count": null,
      "outputs": []
    },
    {
      "cell_type": "markdown",
      "source": [
        "###`Q-6:` Create a 5x5 matrix with row values ranging from 0 to 4."
      ],
      "metadata": {
        "id": "QtjAFm5PEntK"
      }
    },
    {
      "cell_type": "code",
      "source": [
        "arr = np.zeros((5,5))\n",
        "arr += np.arange(5)\n",
        "arr"
      ],
      "metadata": {
        "id": "z2WGxRjvEuRS",
        "colab": {
          "base_uri": "https://localhost:8080/"
        },
        "outputId": "3434568f-14ee-431b-9968-e3743969322c"
      },
      "execution_count": null,
      "outputs": [
        {
          "output_type": "execute_result",
          "data": {
            "text/plain": [
              "array([[0., 1., 2., 3., 4.],\n",
              "       [0., 1., 2., 3., 4.],\n",
              "       [0., 1., 2., 3., 4.],\n",
              "       [0., 1., 2., 3., 4.],\n",
              "       [0., 1., 2., 3., 4.]])"
            ]
          },
          "metadata": {},
          "execution_count": 17
        }
      ]
    },
    {
      "cell_type": "markdown",
      "source": [
        "###`Q-7:`  Consider a random integer (in range 1 to 100) vector with shape `(10,2)` representing coordinates, and coordinates of a point as array is given. Create an array of distance of each point in the random vectros from the given point. Distance array should be interger type.\n",
        "\n",
        "```\n",
        "point = np.array([2,3])\n",
        "```\n"
      ],
      "metadata": {
        "id": "KPpvxKjVHnyx"
      }
    },
    {
      "cell_type": "code",
      "source": [
        "a = np.random.randint(1,101, (10,2))\n",
        "p = np.array([2,3])\n",
        "\n",
        "np.sqrt(np.sum((a-p)**2, axis=1)).astype(int)"
      ],
      "metadata": {
        "id": "X7KGnWLNIM6f",
        "colab": {
          "base_uri": "https://localhost:8080/"
        },
        "outputId": "6bc75022-8efd-40d7-8189-828e255f7152"
      },
      "execution_count": null,
      "outputs": [
        {
          "output_type": "execute_result",
          "data": {
            "text/plain": [
              "array([126,  92,  82,  92,  98,  74,  95,  59,  37,  55])"
            ]
          },
          "metadata": {},
          "execution_count": 28
        }
      ]
    },
    {
      "cell_type": "markdown",
      "source": [
        "###`Q-8:` Consider a (6,7,8) shape array, what is the index (x,y,z) of the 100th element?"
      ],
      "metadata": {
        "id": "tajOFJlCDwTr"
      }
    },
    {
      "cell_type": "code",
      "source": [
        "#Code here\n",
        "np.unravel_index(100, (6,7,8))"
      ],
      "metadata": {
        "id": "qH4oxvs0D3Ra",
        "colab": {
          "base_uri": "https://localhost:8080/"
        },
        "outputId": "ff4f0c88-e3c0-433c-a653-f8eb29f766e0"
      },
      "execution_count": null,
      "outputs": [
        {
          "output_type": "execute_result",
          "data": {
            "text/plain": [
              "(1, 5, 4)"
            ]
          },
          "metadata": {},
          "execution_count": 29
        }
      ]
    },
    {
      "cell_type": "markdown",
      "source": [
        "### `Q-9:` Arrays\n",
        "\n",
        "You are given a space separated list of numbers. Your task is to print a reversed NumPy array with the element type float.\n",
        "\n"
      ],
      "metadata": {
        "id": "9LxBAbT2Pw33"
      }
    },
    {
      "cell_type": "markdown",
      "source": [
        "**Input Format:**\n",
        "\n",
        "A single line of input containing space separated numbers.\n",
        "\n",
        "**Output Format:**\n",
        "\n",
        "Print the reverse NumPy array with type float.\n",
        "\n",
        "**Example 1:**\n",
        "\n",
        "Input:\n",
        "\n",
        "```bash\n",
        "1 2 3 4 -8 -10\n",
        "```\n",
        "\n",
        "Output:\n",
        "\n",
        "```bash\n",
        "[-10.  -8.   4.   3.   2.   1.]\n",
        "```"
      ],
      "metadata": {
        "id": "JJpqVms2Nq7L"
      }
    },
    {
      "cell_type": "code",
      "source": [
        "#Code here\n",
        "\n",
        "nums = input('Enter space seperated numbers').strip().split()\n",
        "\n",
        "arr = np.array(nums[::-1], dtype=np.float32)\n",
        "print(arr)"
      ],
      "metadata": {
        "id": "7iQyg6ChNl3j",
        "colab": {
          "base_uri": "https://localhost:8080/"
        },
        "outputId": "d7f00056-cbdb-45be-eb56-9b6b5d2e4a8d"
      },
      "execution_count": null,
      "outputs": [
        {
          "output_type": "stream",
          "name": "stdout",
          "text": [
            "Enter space seperated numbers1 2 3 4 -8 -10\n",
            "[-10.  -8.   4.   3.   2.   1.]\n"
          ]
        }
      ]
    },
    {
      "cell_type": "markdown",
      "source": [
        "### `Q-10:` Elements count\n",
        "\n",
        "Count the number of elements of a numpy array.\n",
        "\n"
      ],
      "metadata": {
        "id": "TPxD7jM8Sjz9"
      }
    },
    {
      "cell_type": "markdown",
      "source": [
        "**Example 1:**\n",
        "\n",
        "Input:\n",
        "```bash\n",
        "np.array([])\n",
        "```\n",
        "\n",
        "Output:\n",
        "```bash\n",
        "elements_count :  0\n",
        "```\n",
        "\n",
        "**Example 2:**\n",
        "\n",
        "Input:\n",
        "```bash\n",
        "np.array([1, 2])\n",
        "```\n",
        "\n",
        "Output:\n",
        "```bash\n",
        "elements_count :  2\n",
        "```"
      ],
      "metadata": {
        "id": "oHTiTz_jNkAU"
      }
    },
    {
      "cell_type": "code",
      "source": [
        "#Code here\n",
        "\n",
        "def count_size(arr):\n",
        "  return arr.size\n",
        "\n",
        "a = count_size(np.array([1, 2]))\n",
        "print(a)"
      ],
      "metadata": {
        "id": "RG0H2I-TNeGN",
        "colab": {
          "base_uri": "https://localhost:8080/"
        },
        "outputId": "26429741-10c0-45cf-d9a8-4a5545c8e5f4"
      },
      "execution_count": null,
      "outputs": [
        {
          "output_type": "stream",
          "name": "stdout",
          "text": [
            "2\n"
          ]
        }
      ]
    },
    {
      "cell_type": "markdown",
      "source": [
        "### `Q-11:` Softmax function\n",
        "\n",
        "Create a Python function to calculate the Softmax of the given numpy 1D array. The function only accepts the numpy 1D array, otherwise raise error.\n",
        "\n",
        "$$\\Large \\sigma(\\vec z)_i = \\frac{e^{z_i}}{\\sum_{j=i}^{K}{e^{z_j}}}$$\n",
        "\n",
        "https://en.wikipedia.org/wiki/Softmax_function = 1\n",
        "\n",
        "\n"
      ],
      "metadata": {
        "id": "pwgPz-3l5ic5"
      }
    },
    {
      "cell_type": "markdown",
      "source": [
        "**Example 1:**\n",
        "\n",
        "Input:\n",
        "```bash\n",
        "[86.03331084 37.7285648  48.64908087 87.16563062 38.40852563 37.20006318]\n",
        "```\n",
        "\n",
        "Output:\n",
        "```bash\n",
        "[2.43733249e-01, 2.56112115e-22, 1.41628284e-17, 7.56266751e-01,\n",
        "       5.05514197e-22, 1.50974911e-22]\n",
        "```\n",
        "\n",
        "**Example 2:**\n",
        "\n",
        "Input:\n",
        "```bash\n",
        "[33.17344305 45.61961654 82.05405781 80.9647098  68.82830233 91.52064278]\n",
        "```\n",
        "\n",
        "Output:\n",
        "```bash\n",
        "[4.57181035e-26, 1.16249923e-20, 7.73872596e-05, 2.60358426e-05,\n",
        "       1.39571531e-10, 9.99896577e-01]\n",
        "```"
      ],
      "metadata": {
        "id": "eZ3WJt6UM1ul"
      }
    },
    {
      "cell_type": "code",
      "source": [
        "import numpy as np\n",
        "\n",
        "def softmax(arr):\n",
        "  if type(arr) != np.ndarray:\n",
        "    raise TypeError('Requires Numpy Array')\n",
        "  elif arr.ndim > 1:\n",
        "    raise TypeError('Requires 1D array')\n",
        "  s = np.sum(np.exp(arr))\n",
        "  return np.exp(arr)/s\n",
        "\n",
        "\n",
        "softmax(np.array([86.03331084, 37.7285648,  48.64908087, 87.16563062, 38.40852563, 37.20006318]))"
      ],
      "metadata": {
        "id": "VNzj05lkNaNi",
        "colab": {
          "base_uri": "https://localhost:8080/"
        },
        "outputId": "ffef749f-5078-4528-e874-9e5e0618648e"
      },
      "execution_count": 4,
      "outputs": [
        {
          "output_type": "execute_result",
          "data": {
            "text/plain": [
              "array([2.43733248e-01, 2.56112114e-22, 1.41628283e-17, 7.56266752e-01,\n",
              "       5.05514197e-22, 1.50974911e-22])"
            ]
          },
          "metadata": {},
          "execution_count": 4
        }
      ]
    },
    {
      "cell_type": "markdown",
      "source": [
        "### `Q-12:` Vertical stack\n",
        "\n",
        "Write a python function that accepts infinite number of numpy arrays and do the vertical stack to them. Then return that new array as result. The function only accepts the numpy array, otherwise raise error.\n",
        "\n"
      ],
      "metadata": {
        "id": "k4JWSwWu_HXg"
      }
    },
    {
      "cell_type": "markdown",
      "source": [
        "**Example 1:**\n",
        "\n",
        "Input:\n",
        "```bash\n",
        "a= [[0 1 2 3 4]\n",
        " [5 6 7 8 9]]\n",
        "\n",
        "b= [[1 1 1 1 1]\n",
        " [1 1 1 1 1]]\n",
        "```\n",
        "\n",
        "Output:\n",
        "\n",
        "```bash\n",
        "[[0 1 2 3 4]\n",
        " [5 6 7 8 9]\n",
        " [1 1 1 1 1]\n",
        " [1 1 1 1 1]]\n",
        "```\n",
        "\n",
        "**Example 2:**\n",
        "\n",
        "Input:\n",
        "```bash\n",
        "a= [[0 1 2 3 4]\n",
        " [5 6 7 8 9]]\n",
        "\n",
        "b= [[1 1 1 1 1]\n",
        " [1 1 1 1 1]]\n",
        "\n",
        "c= [[0.10117373 0.1677244  0.73764059 0.83166097 0.48985695]\n",
        " [0.44581567 0.13502419 0.55692335 0.16479622 0.61193593]]\n",
        "```\n",
        "\n",
        "Output:\n",
        "```bash\n",
        "[[0.         1.         2.         3.         4.        ]\n",
        " [5.         6.         7.         8.         9.        ]\n",
        " [1.         1.         1.         1.         1.        ]\n",
        " [1.         1.         1.         1.         1.        ]\n",
        " [0.10117373 0.1677244  0.73764059 0.83166097 0.48985695]\n",
        " [0.44581567 0.13502419 0.55692335 0.16479622 0.61193593]]\n",
        "```"
      ],
      "metadata": {
        "id": "XhhV3mraNAWr"
      }
    },
    {
      "cell_type": "code",
      "source": [
        "def vertical_stack(*args):\n",
        "    for i in args:\n",
        "        if type(i) != np.ndarray:\n",
        "            raise TypeError(\"Requires Numpy Array\")\n",
        "    return np.vstack(args)\n",
        "\n",
        "a = np.arange(10).reshape(2, -1)\n",
        "print(a)\n",
        "b = np.random.random((2,5))\n",
        "print(b)\n",
        "print(vertical_stack(a,b))\n",
        "\n",
        "vertical_stack(a,b)"
      ],
      "metadata": {
        "id": "dhtnbSj6NP8z",
        "colab": {
          "base_uri": "https://localhost:8080/"
        },
        "outputId": "c6dec77d-255f-4e19-e975-38fa28834b77"
      },
      "execution_count": 17,
      "outputs": [
        {
          "output_type": "stream",
          "name": "stdout",
          "text": [
            "[[0 1 2 3 4]\n",
            " [5 6 7 8 9]]\n",
            "[[0.32178441 0.90243474 0.34663668 0.57699709 0.77331495]\n",
            " [0.78614797 0.39715768 0.55470303 0.72157385 0.73806523]]\n",
            "[[0.         1.         2.         3.         4.        ]\n",
            " [5.         6.         7.         8.         9.        ]\n",
            " [0.32178441 0.90243474 0.34663668 0.57699709 0.77331495]\n",
            " [0.78614797 0.39715768 0.55470303 0.72157385 0.73806523]]\n"
          ]
        },
        {
          "output_type": "execute_result",
          "data": {
            "text/plain": [
              "array([[0.        , 1.        , 2.        , 3.        , 4.        ],\n",
              "       [5.        , 6.        , 7.        , 8.        , 9.        ],\n",
              "       [0.32178441, 0.90243474, 0.34663668, 0.57699709, 0.77331495],\n",
              "       [0.78614797, 0.39715768, 0.55470303, 0.72157385, 0.73806523]])"
            ]
          },
          "metadata": {},
          "execution_count": 17
        }
      ]
    },
    {
      "cell_type": "markdown",
      "source": [
        "### `Q-13:` Dates\n",
        "\n",
        "Create a python function named **date_array** that accepts two dates as string format and returns a numpy array of dates between those 2 dates. The function only accept 2 strings, otherwise raise error. The date format should be like this only: `2022-12-6`. The end date should be included and for simplicity, choose dates from a same year.\n",
        "\n"
      ],
      "metadata": {
        "id": "3mk8T6CuC2DP"
      }
    },
    {
      "cell_type": "markdown",
      "source": [
        "**Example 1:**\n",
        "\n",
        "Input:\n",
        "```bash\n",
        "date_array(start = '2020-09-15', end = '2020-09-25')\n",
        "```\n",
        "\n",
        "Output:\n",
        "```bash\n",
        "['2020-09-15', '2020-09-16', '2020-09-17', '2020-09-18',\n",
        " '2020-09-19', '2020-09-20', '2020-09-21', '2020-09-22',\n",
        " '2020-09-23', '2020-09-24', '2020-09-25']\n",
        "```\n",
        "\n",
        "**Example 2:**\n",
        "\n",
        "Input:\n",
        "```bash\n",
        "date_array(start = '2022-12-01', end = '2022-12-06')\n",
        "```\n",
        "\n",
        "Output:\n",
        "```bash\n",
        "['2022-12-01', '2022-12-02', '2022-12-03', '2022-12-04', '2022-12-05', '2022-12-06']\n",
        "```\n",
        "\n",
        "**Example 3:**\n",
        "\n",
        "Input:\n",
        "```bash\n",
        "date_array(start = '2020-11-25', end = '2020-11-30')\n",
        "```\n",
        "\n",
        "Output:\n",
        "```bash\n",
        "['2020-11-25', '2020-11-26', '2020-11-27', '2020-11-28',\n",
        " '2020-11-29', '2020-11-30']\n",
        "```"
      ],
      "metadata": {
        "id": "E3IgjnTTNFEk"
      }
    },
    {
      "cell_type": "code",
      "source": [
        "a = '123'\n",
        "type(a)"
      ],
      "metadata": {
        "colab": {
          "base_uri": "https://localhost:8080/"
        },
        "id": "BZubzbUe1pvU",
        "outputId": "d7662c7b-b36f-4c28-e190-3c281a1075c0"
      },
      "execution_count": null,
      "outputs": [
        {
          "output_type": "execute_result",
          "data": {
            "text/plain": [
              "str"
            ]
          },
          "metadata": {},
          "execution_count": 2
        }
      ]
    },
    {
      "cell_type": "code",
      "source": [
        "def date_array(start: str, end: str):\n",
        "    if type(start) != str or type(end) != str:\n",
        "        raise TypeError\n",
        "\n",
        "    total_days_of_month = {\"01\": 31, \"02\": 28, \"03\": 31, \"04\":30, \"05\": 31, \"06\":30, \"07\":31, \"08\":31, \"09\":30, \"10\": 31, \"11\":30, \"12\":31}\n",
        "\n",
        "    end = end.split(\"-\")\n",
        "    end_last = int(end[-1]) + 1\n",
        "\n",
        "    # If the next day of end falls in the next month, account for that\n",
        "    if total_days_of_month[end[-2]] < end_last:\n",
        "        days_diff = end_last - total_days_of_month[end[-2]]\n",
        "        end[-1] = f'0{days_diff}' if days_diff< 10 else f'{days_diff}'\n",
        "        next_month = int(end[-2]) + 1\n",
        "        end[-2] = f'0{next_month}' if next_month< 10 else f'{next_month}'\n",
        "    else:\n",
        "        end[-1] = f'0{end_last}' if end_last < 10 else f'{end_last}'\n",
        "    end = \"-\".join(end)\n",
        "    return np.arange(start, end, dtype=\"datetime64[D]\")    # Use arange() to generate all dates between start and end\n",
        "date_array(start = '2020-11-25', end = '2020-11-30')"
      ],
      "metadata": {
        "id": "Yj5PBfQQNTnL",
        "colab": {
          "base_uri": "https://localhost:8080/"
        },
        "outputId": "ca9ecbd1-d7d6-4f9a-c7c8-d9a33b56c0ed"
      },
      "execution_count": 19,
      "outputs": [
        {
          "output_type": "execute_result",
          "data": {
            "text/plain": [
              "array(['2020-11-25', '2020-11-26', '2020-11-27', '2020-11-28',\n",
              "       '2020-11-29', '2020-11-30'], dtype='datetime64[D]')"
            ]
          },
          "metadata": {},
          "execution_count": 19
        }
      ]
    },
    {
      "cell_type": "markdown",
      "source": [
        "###`Q-14:` Subtract the mean of each row from a matrix."
      ],
      "metadata": {
        "id": "bcEp0wTWQijK"
      }
    },
    {
      "cell_type": "code",
      "source": [
        "x = np.random.random((3,4))\n",
        "x - x.mean(axis=1, keepdims=True)"
      ],
      "metadata": {
        "id": "rpILVGcgQzMo",
        "colab": {
          "base_uri": "https://localhost:8080/"
        },
        "outputId": "83e39337-eb63-4495-de37-88554c6c4e47"
      },
      "execution_count": 22,
      "outputs": [
        {
          "output_type": "execute_result",
          "data": {
            "text/plain": [
              "array([[ 0.30329606, -0.03715893, -0.17766814, -0.08846899],\n",
              "       [-0.11269169,  0.08948966, -0.17179765,  0.19499968],\n",
              "       [ 0.09248766, -0.23694559,  0.35314378, -0.20868584]])"
            ]
          },
          "metadata": {},
          "execution_count": 22
        }
      ]
    },
    {
      "cell_type": "markdown",
      "source": [
        "###`Q-15:` Swap column-1 of array with column-2 in the array."
      ],
      "metadata": {
        "id": "A-dMVlPPSBTT"
      }
    },
    {
      "cell_type": "code",
      "source": [
        "#Code here\n",
        "a = np.arange(9).reshape(3,3)\n",
        "a[:,[0,2,1]]"
      ],
      "metadata": {
        "id": "3RtngM9-Q6S7",
        "colab": {
          "base_uri": "https://localhost:8080/"
        },
        "outputId": "3d43a17f-b3c5-4365-c2b4-5ca5c757cd58"
      },
      "execution_count": 23,
      "outputs": [
        {
          "output_type": "execute_result",
          "data": {
            "text/plain": [
              "array([[0, 2, 1],\n",
              "       [3, 5, 4],\n",
              "       [6, 8, 7]])"
            ]
          },
          "metadata": {},
          "execution_count": 23
        }
      ]
    },
    {
      "cell_type": "markdown",
      "source": [
        "###`Q-16:` Replace odd elements in arrays with -1."
      ],
      "metadata": {
        "id": "cB4VMexvS6Zi"
      }
    },
    {
      "cell_type": "code",
      "source": [
        "#Code here"
      ],
      "metadata": {
        "id": "Bt83nXEVS5O4"
      },
      "execution_count": null,
      "outputs": []
    },
    {
      "cell_type": "code",
      "source": [
        "a = np.arange(10)\n",
        "a[a%2 == 1] = -1\n",
        "a"
      ],
      "metadata": {
        "id": "1ZlvMaXLVyoW",
        "colab": {
          "base_uri": "https://localhost:8080/"
        },
        "outputId": "dd680716-17e8-4dfc-957c-5087e6bf5d9a"
      },
      "execution_count": 27,
      "outputs": [
        {
          "output_type": "execute_result",
          "data": {
            "text/plain": [
              "array([ 0, -1,  2, -1,  4, -1,  6, -1,  8, -1])"
            ]
          },
          "metadata": {},
          "execution_count": 27
        }
      ]
    },
    {
      "cell_type": "markdown",
      "source": [
        "###`Q-17:` Given two arrays of same shape make an array of max out of two arrays. (Numpy way)\n",
        "```\n",
        "a=np.array([6,3,1,5,8])\n",
        "b=np.array([3,2,1,7,2])\n",
        "\n",
        "Result-> [6 3 1 7 8]\n",
        "```"
      ],
      "metadata": {
        "id": "kf_qvmBxWIT_"
      }
    },
    {
      "cell_type": "code",
      "source": [
        "#Code here"
      ],
      "metadata": {
        "id": "TB9ZvF-EZSfu"
      },
      "execution_count": null,
      "outputs": []
    },
    {
      "cell_type": "code",
      "source": [
        "a=np.array([6,3,1,5,8])\n",
        "b=np.array([3,2,1,7,2])\n",
        "\n",
        "a[b>a] = b[a<b]\n",
        "a"
      ],
      "metadata": {
        "id": "D7ad-A6jZzCL",
        "colab": {
          "base_uri": "https://localhost:8080/"
        },
        "outputId": "e2faa713-0a29-4fa6-fca9-3c7a81d529ec"
      },
      "execution_count": 28,
      "outputs": [
        {
          "output_type": "execute_result",
          "data": {
            "text/plain": [
              "array([6, 3, 1, 7, 8])"
            ]
          },
          "metadata": {},
          "execution_count": 28
        }
      ]
    },
    {
      "cell_type": "markdown",
      "source": [
        "###`Q-18` Answer below asked questions on given array:\n",
        "1. Fetch Every alternate column of the array\n",
        "2. Normalise the given array\n",
        "\n",
        "https://en.wikipedia.org/wiki/Normalization_(statistics)\n",
        "\n",
        "There are different form of normalisation for this question use below formula.\n",
        "\n",
        "$$\\large X_{normalized} = \\frac{X - X_{min}}{X_{max} - X_{min}}$$\n",
        "\n",
        "```python\n",
        "arr1=np.random.randint(low=1, high=10000, size=40).reshape(8,5)\n",
        "```\n"
      ],
      "metadata": {
        "id": "iOQLUIeGc3zA"
      }
    },
    {
      "cell_type": "code",
      "source": [
        "# Given\n",
        "arr1=np.random.randint(low=1, high=10000, size=40).reshape(8,5)\n",
        "arr1"
      ],
      "metadata": {
        "colab": {
          "base_uri": "https://localhost:8080/"
        },
        "id": "vjSm18k3d_1p",
        "outputId": "cd7c1c3e-0840-46eb-903b-aa3e3eafafb8"
      },
      "execution_count": 33,
      "outputs": [
        {
          "output_type": "execute_result",
          "data": {
            "text/plain": [
              "array([[4833,  587, 9567, 7079, 5579],\n",
              "       [6624, 2086, 1825,  167, 5431],\n",
              "       [9336, 3552, 6636, 4679,  290],\n",
              "       [5063, 4949, 8593, 9517, 2919],\n",
              "       [8098, 9247, 3744, 3851, 5244],\n",
              "       [3632, 8879, 9444, 9450, 8567],\n",
              "       [9422,  837, 9086, 7927, 7905],\n",
              "       [5689, 3539, 3140, 4946, 2055]])"
            ]
          },
          "metadata": {},
          "execution_count": 33
        }
      ]
    },
    {
      "cell_type": "code",
      "source": [
        "#Code here\n",
        "arr1[:, ::2]\n"
      ],
      "metadata": {
        "id": "d7u8DB47eBfQ",
        "colab": {
          "base_uri": "https://localhost:8080/"
        },
        "outputId": "b68b91c7-e5d7-49da-9b34-d2076ef39a6c"
      },
      "execution_count": 34,
      "outputs": [
        {
          "output_type": "execute_result",
          "data": {
            "text/plain": [
              "array([[4833, 9567, 5579],\n",
              "       [6624, 1825, 5431],\n",
              "       [9336, 6636,  290],\n",
              "       [5063, 8593, 2919],\n",
              "       [8098, 3744, 5244],\n",
              "       [3632, 9444, 8567],\n",
              "       [9422, 9086, 7905],\n",
              "       [5689, 3140, 2055]])"
            ]
          },
          "metadata": {},
          "execution_count": 34
        }
      ]
    },
    {
      "cell_type": "code",
      "source": [
        "(arr1 - arr1.min())/(arr1.max() - arr1.min())"
      ],
      "metadata": {
        "colab": {
          "base_uri": "https://localhost:8080/"
        },
        "id": "t2MzZjaPFRyj",
        "outputId": "04ec09ae-f2ff-403d-dfb9-bd48a77e2979"
      },
      "execution_count": 35,
      "outputs": [
        {
          "output_type": "execute_result",
          "data": {
            "text/plain": [
              "array([[0.49638298, 0.04468085, 1.        , 0.73531915, 0.57574468],\n",
              "       [0.68691489, 0.20414894, 0.17638298, 0.        , 0.56      ],\n",
              "       [0.97542553, 0.36010638, 0.68819149, 0.48      , 0.01308511],\n",
              "       [0.52085106, 0.5087234 , 0.89638298, 0.99468085, 0.29276596],\n",
              "       [0.8437234 , 0.96595745, 0.38053191, 0.39191489, 0.54010638],\n",
              "       [0.36861702, 0.92680851, 0.98691489, 0.98755319, 0.89361702],\n",
              "       [0.98457447, 0.0712766 , 0.94882979, 0.82553191, 0.82319149],\n",
              "       [0.58744681, 0.3587234 , 0.3162766 , 0.50840426, 0.20085106]])"
            ]
          },
          "metadata": {},
          "execution_count": 35
        }
      ]
    },
    {
      "cell_type": "markdown",
      "source": [
        "###`Q-19:` Write a function which will accept 2 arguments.\n",
        "First: A 1D numpy array arr\n",
        "\n",
        "Second: An integer n {Please make sure n<=len(arr)}\n",
        "\n",
        "Output: The output should be the nth largest item out of the array\n",
        "```\n",
        "# Example1 : arr=(12,34,40,7,1,0) and n=3, the output should be 12\n",
        "# Example2 : arr=(12,34,40,7,1,0) and n=1, the output should be 40\n",
        "```"
      ],
      "metadata": {
        "id": "jCzsVEKLgGNo"
      }
    },
    {
      "cell_type": "code",
      "source": [
        "def nthmax(arr, n):\n",
        "    if n>len(arr):\n",
        "        raise IndexError(\"n is way out of limit\")\n",
        "    arr.sort()\n",
        "    return arr[-n]\n",
        "nthmax(np.array([12,34,40,7,1,0]),3)"
      ],
      "metadata": {
        "id": "J4AzkDk7gXSG",
        "colab": {
          "base_uri": "https://localhost:8080/"
        },
        "outputId": "7eeb912e-2a2c-48d2-d791-24f2ef7ac7b5"
      },
      "execution_count": 36,
      "outputs": [
        {
          "output_type": "execute_result",
          "data": {
            "text/plain": [
              "12"
            ]
          },
          "metadata": {},
          "execution_count": 36
        }
      ]
    },
    {
      "cell_type": "markdown",
      "source": [
        "###`Q-20:` Create the following pattern without hardcoding. Use only numpy functions and the below input array a.\n",
        "```\n",
        "# Input: a = np.array([1,2,3])\n",
        "# Output: array([1, 1, 1, 2, 2, 2, 3, 3, 3, 1, 2, 3, 1, 2, 3, 1, 2, 3])\n",
        "```"
      ],
      "metadata": {
        "id": "ja0xPCgjhBsg"
      }
    },
    {
      "cell_type": "code",
      "source": [
        "#code here\n",
        "a = np.array([1,2,3])\n",
        "np.hstack([np.repeat(a, 3), np.tile(a, 3)])"
      ],
      "metadata": {
        "id": "CndS8TTNhG0F",
        "colab": {
          "base_uri": "https://localhost:8080/"
        },
        "outputId": "9827953f-373f-4eae-b796-359983f11144"
      },
      "execution_count": 37,
      "outputs": [
        {
          "output_type": "execute_result",
          "data": {
            "text/plain": [
              "array([1, 1, 1, 2, 2, 2, 3, 3, 3, 1, 2, 3, 1, 2, 3, 1, 2, 3])"
            ]
          },
          "metadata": {},
          "execution_count": 37
        }
      ]
    },
    {
      "cell_type": "code",
      "source": [],
      "metadata": {
        "id": "bnkpdK1vF2qD"
      },
      "execution_count": null,
      "outputs": []
    }
  ]
}