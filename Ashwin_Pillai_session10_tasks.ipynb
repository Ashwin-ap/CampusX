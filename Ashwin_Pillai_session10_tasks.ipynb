{
  "nbformat": 4,
  "nbformat_minor": 0,
  "metadata": {
    "colab": {
      "provenance": []
    },
    "kernelspec": {
      "name": "python3",
      "display_name": "Python 3"
    },
    "language_info": {
      "name": "python"
    }
  },
  "cells": [
    {
      "cell_type": "markdown",
      "source": [
        "### `Q-1:` Write a function `get_final_line(filename)`, which takes filename as input and return final line of the file.\n",
        "\n",
        "Note: You can choose any file of your choice."
      ],
      "metadata": {
        "id": "MbeMdx5d5qRj"
      }
    },
    {
      "cell_type": "code",
      "source": [
        "with open('sample.txt', 'w') as f:\n",
        "  f.write(\"hi there \\n\")\n",
        "  f.write(\"My name is Ash \\n\")\n",
        "  f.write(\"I am doing great\")"
      ],
      "metadata": {
        "id": "zUf-KPaiXcSl"
      },
      "execution_count": 2,
      "outputs": []
    },
    {
      "cell_type": "code",
      "source": [
        "def get_final_line(filename):\n",
        "  final_line = ''\n",
        "  for curr_line in open(filename, 'r'):\n",
        "    final_line = curr_line\n",
        "  return final_line\n",
        "\n",
        "\n",
        "a = get_final_line('sample.txt')\n",
        "print(a)"
      ],
      "metadata": {
        "id": "rjx9XRTq5uzD",
        "colab": {
          "base_uri": "https://localhost:8080/"
        },
        "outputId": "b4c6fe31-e2a0-4463-9a68-93f0a3ceaeb7"
      },
      "execution_count": 4,
      "outputs": [
        {
          "output_type": "stream",
          "name": "stdout",
          "text": [
            "I am doing great\n"
          ]
        }
      ]
    },
    {
      "cell_type": "markdown",
      "source": [
        "###`Q-2:` Read through a text file, line by line. Use a dict to keep track of how many times each vowel (a, e, i, o, and u) appears in the file. Print the resulting tabulation -- dictionary."
      ],
      "metadata": {
        "id": "B87Z6-yQ5wVO"
      }
    },
    {
      "cell_type": "code",
      "source": [
        "def vowels_count(filename):\n",
        "  vowels = ['a', 'e', 'i', 'o','u']\n",
        "  d = {i:0 for i in vowels}\n",
        "\n",
        "  for curr_line in open(filename, 'r'):\n",
        "    for ch in curr_line:\n",
        "      if ch in vowels:\n",
        "        d[ch] += 1\n",
        "\n",
        "  return d\n",
        "\n",
        "print(vowels_count(\"sample.txt\"))"
      ],
      "metadata": {
        "id": "XeXnOL7X50Sa",
        "colab": {
          "base_uri": "https://localhost:8080/"
        },
        "outputId": "4c70d0bf-7ad5-4b5c-8bc1-1ab20eaaf405"
      },
      "execution_count": 5,
      "outputs": [
        {
          "output_type": "stream",
          "name": "stdout",
          "text": [
            "{'a': 3, 'e': 4, 'i': 3, 'o': 1, 'u': 0}\n"
          ]
        }
      ]
    },
    {
      "cell_type": "markdown",
      "source": [
        "###`Q-3:` Create a text file (using an editor, not necessarily Python) containing two tab separated columns, with each column containing a number. Then use Python to read through the file you’ve created. For each line, multiply each first number by the second and include it in the file in third column. In last add a line Total, by summing the value of third column\n",
        "\n"
      ],
      "metadata": {
        "id": "lRqQ2Y295-Gg"
      }
    },
    {
      "cell_type": "markdown",
      "source": [
        "Input File example: That you need to create\n",
        "```\n",
        "1   2\n",
        "3   4\n",
        "5   6\n",
        "7   8\n",
        "9   10\n",
        "\n",
        "```\n",
        "\n",
        "Output File Example:\n",
        "```\n",
        "1   2   2\n",
        "3   4   12\n",
        "5   6   30\n",
        "7   8   56\n",
        "9   10  90\n",
        "Total   190\n",
        "```\n"
      ],
      "metadata": {
        "id": "GtFfahZc6Bvg"
      }
    },
    {
      "cell_type": "code",
      "source": [
        "# write code here\n",
        "filename = \"num.txt\"\n",
        "with open(filename, 'w') as f:\n",
        "  for i in range(1,11,2):\n",
        "    line = '{}\\t{}\\n'.format(i, i+1)\n",
        "    f.writelines(line)\n",
        "\n",
        "with open('num.txt', 'r') as f:\n",
        "  line = f.read().splitlines()\n",
        "\n",
        "total = 0\n",
        "with open('num.txt', 'w') as f:\n",
        "  for lines in line:\n",
        "    a,b = lines.split(sep='\\t')\n",
        "    res = int(a) * int(b)\n",
        "    total += res\n",
        "    f.write(\"{}\\t{}\\t{}\\n\".format(a,b,res))\n",
        "  f.write(\"Total \\t {}\".format(str(total)))"
      ],
      "metadata": {
        "id": "GiKvqHnr5-j2"
      },
      "execution_count": 6,
      "outputs": []
    },
    {
      "cell_type": "code",
      "source": [],
      "metadata": {
        "id": "waY5kX1iaXlP"
      },
      "execution_count": 6,
      "outputs": []
    },
    {
      "cell_type": "markdown",
      "source": [
        "###`Q-4:` Create line wise reverse of a file\n",
        "Write a function which takes two arguments: the names of the input file (to be read from) and the output file (which will be created)."
      ],
      "metadata": {
        "id": "DunQepHC6J9r"
      }
    },
    {
      "cell_type": "markdown",
      "source": [
        "For example, if a file looks like\n",
        " ```\n",
        "abc def\n",
        "ghi jkl\n",
        "```\n",
        "then the output file will be\n",
        "```\n",
        "fed cba\n",
        "lkj ihg\n",
        "```\n",
        "**Notice**: The newline remains at the end of the string, while the rest of the characters are all reversed."
      ],
      "metadata": {
        "id": "QxWEtFle6Nmu"
      }
    },
    {
      "cell_type": "code",
      "source": [
        "# write code here\n",
        "input_file = \"sample.txt\"\n",
        "output_file = \"sample_reversed.txt\"\n",
        "\n",
        "def reverse_lines(infilename, outfilename):\n",
        "    with open(infilename, 'r') as infile, open(outfilename, \"w\") as outfile:\n",
        "        for one_line in infile:\n",
        "            outfile.write(one_line.rstrip()[::-1]+\"\\n\")\n",
        "reverse_lines(input_file, output_file)"
      ],
      "metadata": {
        "id": "tVGo214oiwyh"
      },
      "execution_count": 7,
      "outputs": []
    },
    {
      "cell_type": "code",
      "source": [
        "# write code here"
      ],
      "metadata": {
        "id": "aIJTJNAq6LD7"
      },
      "execution_count": null,
      "outputs": []
    },
    {
      "cell_type": "markdown",
      "source": [
        "###`Q-5:` Create a Serialized dict of frequency of words in the file. And from given list of words, using serialized dict show word count.\n",
        "\n",
        "* List of word will be given\n",
        "\n"
      ],
      "metadata": {
        "id": "wqvx3sMY6bou"
      }
    },
    {
      "cell_type": "markdown",
      "source": [
        "Given String\n",
        "\n",
        "```\n",
        "strings = \"\"\"Alice was beginning to get very tired of sitting by her sister\n",
        "            on the bank, and of having nothing to do:  once or twice she had\n",
        "            peeped into the book her sister was reading, but it had no\n",
        "            pictures or conversations in it, `and what is the use of a book,'\n",
        "            thought Alice `without pictures or conversation?'\n",
        "\n",
        "            So she was considering in her own mind (as well as she could,\n",
        "            for the hot day made her feel very sleepy and stupid), whether\n",
        "            the pleasure of making a daisy-chain would be worth the trouble\n",
        "            of getting up and picking the daisies, when suddenly a White\n",
        "            Rabbit with pink eyes ran close by her.\n",
        "\n",
        "            There was nothing so VERY remarkable in that; nor did Alice\n",
        "            think it so VERY much out of the way to hear the Rabbit say to\n",
        "            itself, `Oh dear!  Oh dear!  I shall be late!'  (when she thought\n",
        "            it over afterwards, it occurred to her that she ought to have\n",
        "            wondered at this, but at the time it all seemed quite natural);\n",
        "            but when the Rabbit actually TOOK A WATCH OUT OF ITS WAISTCOAT-\n",
        "            POCKET, and looked at it, and then hurried on, Alice started to\n",
        "            her feet, for it flashed across her mind that she had never\n",
        "            before seen a rabbit with either a waistcoat-pocket, or a watch to\n",
        "            take out of it, and burning with curiosity, she ran across the\n",
        "            field after it, and fortunately was just in time to see it pop\n",
        "            down a large rabbit-hole under the hedge.\"\"\"\n",
        "\n",
        "word_list = ['alice', 'wonder', 'natural']\n",
        "```"
      ],
      "metadata": {
        "id": "uc5MSUWg6cZG"
      }
    },
    {
      "cell_type": "code",
      "source": [
        "# write code here\n",
        "# write code here\n",
        "\n",
        "strings = \"\"\"Alice was beginning to get very tired of sitting by her sister\n",
        "            on the bank, and of having nothing to do:  once or twice she had\n",
        "            peeped into the book her sister was reading, but it had no\n",
        "            pictures or conversations in it, `and what is the use of a book,'\n",
        "            thought Alice `without pictures or conversation?'\n",
        "\n",
        "            So she was considering in her own mind (as well as she could,\n",
        "            for the hot day made her feel very sleepy and stupid), whether\n",
        "            the pleasure of making a daisy-chain would be worth the trouble\n",
        "            of getting up and picking the daisies, when suddenly a White\n",
        "            Rabbit with pink eyes ran close by her.\n",
        "\n",
        "            There was nothing so VERY remarkable in that; nor did Alice\n",
        "            think it so VERY much out of the way to hear the Rabbit say to\n",
        "            itself, `Oh dear!  Oh dear!  I shall be late!'  (when she thought\n",
        "            it over afterwards, it occurred to her that she ought to have\n",
        "            wondered at this, but at the time it all seemed quite natural);\n",
        "            but when the Rabbit actually TOOK A WATCH OUT OF ITS WAISTCOAT-\n",
        "            POCKET, and looked at it, and then hurried on, Alice started to\n",
        "            her feet, for it flashed across her mind that she had never\n",
        "            before seen a rabbit with either a waistcoat-pocket, or a watch to\n",
        "            take out of it, and burning with curiosity, she ran across the\n",
        "            field after it, and fortunately was just in time to see it pop\n",
        "            down a large rabbit-hole under the hedge.\"\"\"\n",
        "\n",
        "word_list = ['alice', 'wonder', 'natural']\n",
        "\n",
        "\n",
        "word_count_dict=dict()\n",
        "for word in strings.lower().split(' '):\n",
        "    try:\n",
        "        word_count_dict[word] += 1\n",
        "    except:\n",
        "        word_count_dict[word] = 1\n",
        "import pickle as pkl\n",
        "\n",
        "pkl.dump(word_count_dict, open(\"word_count_dict.pkl\", \"wb\"))\n",
        "\n",
        "word_count = pkl.load(open(\"word_count_dict.pkl\", \"rb\"))\n",
        "for s in word_list:\n",
        "    try:\n",
        "        print(s, word_count[s])\n",
        "    except:\n",
        "        print(s, 0)"
      ],
      "metadata": {
        "id": "-SmtFFUq6a70",
        "colab": {
          "base_uri": "https://localhost:8080/"
        },
        "outputId": "1eaa30e6-6f88-40d9-df88-a34088a03bc7"
      },
      "execution_count": 8,
      "outputs": [
        {
          "output_type": "stream",
          "name": "stdout",
          "text": [
            "alice 3\n",
            "wonder 0\n",
            "natural 0\n"
          ]
        }
      ]
    },
    {
      "cell_type": "markdown",
      "source": [
        "### **`Q-6:`** Given a string calculate length of the string using recursion.\n",
        "\n",
        "**Example 1:**\n",
        "\n",
        "Input:\n",
        "```bash\n",
        "\"abcd\"\n",
        "```\n",
        "\n",
        "Output:\n",
        "\n",
        "```bash\n",
        "4\n",
        "```\n",
        "\n",
        "**Example 2:**\n",
        "\n",
        "Input:\n",
        "```bash\n",
        "DataScience\n",
        "```\n",
        "\n",
        "Output:\n",
        "\n",
        "```bash\n",
        "11\n",
        "```\n"
      ],
      "metadata": {
        "id": "Und2HuFW6kAw"
      }
    },
    {
      "cell_type": "code",
      "source": [
        "\n",
        "string  = 'DataScience'\n",
        "\n",
        "def string_length(s):\n",
        "    if s == \"\":\n",
        "        return 0\n",
        "    else:\n",
        "        return 1 + string_length(s[1:])\n",
        "string_length(string)"
      ],
      "metadata": {
        "id": "9HE7lB5W61gT",
        "colab": {
          "base_uri": "https://localhost:8080/"
        },
        "outputId": "f7bd8251-50e4-4a80-fe72-4f40766cd1ac"
      },
      "execution_count": 10,
      "outputs": [
        {
          "output_type": "execute_result",
          "data": {
            "text/plain": [
              "11"
            ]
          },
          "metadata": {},
          "execution_count": 10
        }
      ]
    },
    {
      "cell_type": "markdown",
      "source": [
        "### **`Q-7:`** Write a function that accepts two numbers and returns their greatest common divisior. Without using any loop\n",
        "\n",
        "def gcd(int, int) => int\n",
        "\n",
        "```\n",
        "gcd(16,24) will give 8\n",
        "```"
      ],
      "metadata": {
        "id": "iUDvc-jl6759"
      }
    },
    {
      "cell_type": "code",
      "source": [
        "def gcd(a, b):\n",
        "    if a == b:\n",
        "        return a\n",
        "    elif a>b:\n",
        "        return gcd(a-b, b)\n",
        "    else:\n",
        "        return gcd(b-a, a)\n",
        "gcd(16, 24)"
      ],
      "metadata": {
        "id": "uMQnojHR7O2S",
        "colab": {
          "base_uri": "https://localhost:8080/"
        },
        "outputId": "b4da1e0b-86aa-443e-d77a-9ccfcb2d712b"
      },
      "execution_count": 11,
      "outputs": [
        {
          "output_type": "execute_result",
          "data": {
            "text/plain": [
              "8"
            ]
          },
          "metadata": {},
          "execution_count": 11
        }
      ]
    },
    {
      "cell_type": "markdown",
      "source": [
        " ### `Q-8:` String Edit Distance\n",
        "\n",
        " Use your recursive function to write a program that reads two strings from the\n",
        "user and displays the edit distance between them.\n",
        "\n",
        "*The edit distance between two strings is a measure of their similarity—the smaller the edit distance, the more similar the strings are with regard to the minimum number of insert, delete and substitute operations needed to transform one string into the other.*\n",
        "\n",
        "Consider the strings `kitten` and `sitting`. The first string can be transformed\n",
        "into the second string with the following operations:\n",
        "* Substitute the `k` with an `s`,\n",
        "* substitute the `e` with an `i`,\n",
        "* and insert a `g` at the end of the string.\n",
        "\n",
        "This is the smallest number of operations that can be performed to transform kitten into sitting. As a result, the edit distance is `3`.\n",
        "\n",
        "\n",
        "Write a recursive function that computes the edit distance between two strings.\n",
        "\n",
        "Use the following algorithm:\n",
        "\n",
        "```\n",
        "Let s and t be the strings\n",
        "    If the length of s is 0 then\n",
        "        Return the length of t\n",
        "    Else if the length of t is 0 then\n",
        "        Return the length of s\n",
        "    Else\n",
        "        Set cost to 0\n",
        "        If the last character in s does not equal the last character in t then\n",
        "            Set cost to 1\n",
        "        Set d1 equal to the edit distance between all characters except the last one in s, and all characters in t, plus 1\n",
        "        Set d2 equal to the edit distance between all characters in s, and all characters except the last one in t, plus 1\n",
        "\n",
        "        Set d3 equal to the edit distance between all characters except the last one in s, and all characters except the last one in t, plus cost\n",
        "        Return the minimum of d1, d2 and d3\n",
        "```\n",
        "\n",
        "\n",
        "\n"
      ],
      "metadata": {
        "id": "wFD35fva7Q_B"
      }
    },
    {
      "cell_type": "code",
      "source": [
        "def editDistance(s, t):\n",
        "\n",
        "    if len(s) == 0:\n",
        "        return len(t)\n",
        "    elif len(t) == 0:\n",
        "        return len(s)\n",
        "    else:\n",
        "        cost = 0\n",
        "        if s[-1] != t[-1]:\n",
        "            cost = 1\n",
        "\n",
        "        d1 = editDistance(s[:-1], t) + 1\n",
        "        d2 = editDistance(s, t[:-1]) + 1\n",
        "        d3 = editDistance(s[:-1] , t[:-1]) + cost\n",
        "        return min(d1, d2, d3)\n",
        "\n",
        "editDistance('kitten' , 'sitting')"
      ],
      "metadata": {
        "id": "zlNy_Q987QOX",
        "colab": {
          "base_uri": "https://localhost:8080/"
        },
        "outputId": "51b8e382-c689-4bbc-e212-9d0f35c24a80"
      },
      "execution_count": 12,
      "outputs": [
        {
          "output_type": "execute_result",
          "data": {
            "text/plain": [
              "3"
            ]
          },
          "metadata": {},
          "execution_count": 12
        }
      ]
    },
    {
      "cell_type": "markdown",
      "source": [
        "###`Q-9:` Run-Length Encoding\n",
        "\n",
        "Run-length encoding is a simple data compression technique that can be effective when repeated values occur at adjacent positions within a list. Compression is achieved by replacing groups of repeated values with one copy of the value, followed by the number of times that the value should be repeated. For example, the list\n",
        "```\n",
        "[\"A\", \"A\", \"A\", \"A\", \"A\", \"A\", \"A\", \"A\", \"A\", \"A\", \"A\", \"A\", \"B\", \"B\", \"B\", \"B\", \"A\", \"A\", \"A\", \"A\", \"A\", \"A\", \"B\"]\n",
        "```\n",
        "would be compressed as `[\"A\", 12, \"B\", 4, \"A\", 6, \"B\", 1]`.\n",
        "\n",
        "Write a recursive function that implements the run-length compression technique\n",
        "described above. Your function will take a list or a string as its only parameter. It should return the run-length compressed list as its only result. Include a main program that reads a string from the user, compresses it, and displays the run-length encoded result."
      ],
      "metadata": {
        "id": "Hc9e-qES7iAK"
      }
    },
    {
      "cell_type": "code",
      "source": [
        "string = \"aabbbcdabcddffgah\"\n",
        "\n",
        "def runEncode(s):\n",
        "    if len(s) == 0:\n",
        "        return []\n",
        "    else:\n",
        "        index = 1\n",
        "        while index < len(s) and s[index] == s[index-1]:\n",
        "            index += 1\n",
        "        compressed = [s[0], index]\n",
        "\n",
        "        return compressed + runEncode(s[index:])\n",
        "\n",
        "print(runEncode(string))"
      ],
      "metadata": {
        "id": "W2Wb_WzP7qM1",
        "colab": {
          "base_uri": "https://localhost:8080/"
        },
        "outputId": "06de1dc1-faa8-4975-8e58-eb0154b181f9"
      },
      "execution_count": 13,
      "outputs": [
        {
          "output_type": "stream",
          "name": "stdout",
          "text": [
            "['a', 2, 'b', 3, 'c', 1, 'd', 1, 'a', 1, 'b', 1, 'c', 1, 'd', 2, 'f', 2, 'g', 1, 'a', 1, 'h', 1]\n"
          ]
        }
      ]
    },
    {
      "cell_type": "markdown",
      "source": [
        "###`Q-10:` Write a recursive function to convert a decimal to binary"
      ],
      "metadata": {
        "id": "x6A-4vGC8SLs"
      }
    },
    {
      "cell_type": "code",
      "source": [
        "decimal = 5\n",
        "\n",
        "def decToBin(decimal):\n",
        "    if decimal == 0:\n",
        "        return \"0\"\n",
        "    else:\n",
        "        return decToBin(decimal >> 1) + str(decimal & 1)\n",
        "decToBin(decimal)"
      ],
      "metadata": {
        "id": "izOr6D9V8aME",
        "colab": {
          "base_uri": "https://localhost:8080/",
          "height": 35
        },
        "outputId": "83282da6-c915-4e1a-84ad-c6803c1dca02"
      },
      "execution_count": 14,
      "outputs": [
        {
          "output_type": "execute_result",
          "data": {
            "text/plain": [
              "'0101'"
            ],
            "application/vnd.google.colaboratory.intrinsic+json": {
              "type": "string"
            }
          },
          "metadata": {},
          "execution_count": 14
        }
      ]
    },
    {
      "cell_type": "code",
      "source": [],
      "metadata": {
        "id": "wKceFX53a1sh"
      },
      "execution_count": null,
      "outputs": []
    }
  ]
}