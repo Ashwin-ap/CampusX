{
  "nbformat": 4,
  "nbformat_minor": 0,
  "metadata": {
    "colab": {
      "provenance": []
    },
    "kernelspec": {
      "name": "python3",
      "display_name": "Python 3"
    },
    "language_info": {
      "name": "python"
    }
  },
  "cells": [
    {
      "cell_type": "markdown",
      "source": [
        "### `Problem-1:` Class inheritence\n",
        "\n",
        "Create a **Bus** child class that inherits from the Vehicle class. The default fare charge of any vehicle is seating capacity * 100. If Vehicle is Bus instance, we need to add an extra 10% on full fare as a maintenance charge. So total fare for bus instance will become the final amount = total fare + 10% of the total fare.\n",
        "\n",
        "Note: The bus seating capacity is 50. so the final fare amount should be 5500. You need to override the fare() method of a Vehicle class in Bus class."
      ],
      "metadata": {
        "id": "BCleRtX43caS"
      }
    },
    {
      "cell_type": "code",
      "execution_count": 1,
      "metadata": {
        "id": "6jVFCXKz3YZI"
      },
      "outputs": [],
      "source": [
        "# Write code here\n",
        "class Vehicle:\n",
        "  def __init__(self, type, seating):\n",
        "    self.type = type\n",
        "    self.seating_cap = seating\n",
        "\n",
        "  def fare(self):\n",
        "    return self.seating_cap * 100\n",
        "\n",
        "class Bus(Vehicle):\n",
        "\n",
        "  def fare(self):\n",
        "    bus_fare = super().fare()\n",
        "    final = bus_fare + (0.1 * bus_fare)\n",
        "    return final\n"
      ]
    },
    {
      "cell_type": "code",
      "source": [
        "Bus1 = Bus('Bus', 50)\n",
        "Bus1.fare()"
      ],
      "metadata": {
        "colab": {
          "base_uri": "https://localhost:8080/"
        },
        "id": "DALCa39rOVSs",
        "outputId": "2fb0c995-f2c4-4912-bb0f-5e6f231a20ea"
      },
      "execution_count": 2,
      "outputs": [
        {
          "output_type": "execute_result",
          "data": {
            "text/plain": [
              "5500.0"
            ]
          },
          "metadata": {},
          "execution_count": 2
        }
      ]
    },
    {
      "cell_type": "markdown",
      "source": [
        "### `Problem-2:` Class Inheritence\n",
        "\n",
        "Create a Bus class that inherits from the Vehicle class. Give the capacity argument of *Bus.seating_capacity()* a default value of 50.\n",
        "\n",
        "Use the following code for your parent Vehicle class."
      ],
      "metadata": {
        "id": "KBbGNTtQ47mJ"
      }
    },
    {
      "cell_type": "code",
      "source": [],
      "metadata": {
        "id": "MwOnYE_14M-r"
      },
      "execution_count": null,
      "outputs": []
    },
    {
      "cell_type": "code",
      "source": [],
      "metadata": {
        "id": "Py5Gr0ip5OBB"
      },
      "execution_count": null,
      "outputs": []
    },
    {
      "cell_type": "markdown",
      "source": [
        "### `Problem-3:` Write a program that has a class Point. Define another class Location which has two objects (Location & Destination) of class Point. Also define a function in Location that prints the reflection of Destination on the x axis."
      ],
      "metadata": {
        "id": "ExIxsv4y-oEd"
      }
    },
    {
      "cell_type": "code",
      "source": [
        "class Point:\n",
        "  def __init__(self, x, y):\n",
        "    self.x = x\n",
        "    self.y = y\n",
        "\n",
        "  def show_pt(self):\n",
        "    return '{},{}'.format(self.x, self.y)\n",
        "\n",
        "class Location:\n",
        "  def __init__(self, x1, y1, x2, y2):\n",
        "    self.location = Point(x1, y1)\n",
        "    self.destination = Point(x2,y2)\n",
        "\n",
        "  def show(self):\n",
        "    print('location is at ', self.location.show_pt() )\n",
        "    print('destination is at ', self.destination.show_pt())\n",
        "\n",
        "  def reflection(self):\n",
        "    self.destination.y = -self.destination.y\n",
        "    print('Relection is',self.destination.show_pt())\n",
        "\n",
        "\n",
        "L = Location(0,0,1,1)\n",
        "L.show()\n",
        "L.reflection()\n"
      ],
      "metadata": {
        "id": "yT2QtzQp5VAB",
        "colab": {
          "base_uri": "https://localhost:8080/"
        },
        "outputId": "8ad8e209-d215-4ad2-bd3f-234a7a665982"
      },
      "execution_count": 3,
      "outputs": [
        {
          "output_type": "stream",
          "name": "stdout",
          "text": [
            "location is at  0,0\n",
            "destination is at  1,1\n",
            "Relection is 1,-1\n"
          ]
        }
      ]
    },
    {
      "cell_type": "markdown",
      "source": [
        "### `Problem-4:` Write a program that has an abstract class Polygon. Derive two classes Rectangle and Triamgle from Polygon and write methods to get the details of their dimensions and hence calculate the area."
      ],
      "metadata": {
        "id": "OcQhJvXVALgp"
      }
    },
    {
      "cell_type": "code",
      "source": [
        "from abc import ABC, abstractmethod\n",
        "class Polygon(ABC):\n",
        "\n",
        "  @abstractmethod\n",
        "  def get_data(self):\n",
        "    pass\n",
        "\n",
        "  @abstractmethod\n",
        "  def show_data(self):\n",
        "    pass\n",
        "\n",
        "class Rectangle(Polygon):\n",
        "\n",
        "  def get_data(self,l,b):\n",
        "    self.l = l\n",
        "    self.b = b\n",
        "\n",
        "  def show_data(self):\n",
        "    return self.l * self.b\n",
        "\n",
        "class Triangle(Polygon):\n",
        "\n",
        "  def get_data(self, b, h):\n",
        "    self.b = b\n",
        "    self.h = h\n",
        "\n",
        "  def show_data(self):\n",
        "    return 0.5 * self.b * self.h\n"
      ],
      "metadata": {
        "id": "9IMrtdUH__eA"
      },
      "execution_count": 5,
      "outputs": []
    },
    {
      "cell_type": "code",
      "source": [
        "rec1 = Rectangle()\n",
        "rec1.get_data(2,4)\n",
        "rec1.show_data()"
      ],
      "metadata": {
        "colab": {
          "base_uri": "https://localhost:8080/"
        },
        "id": "UBz2uLOSth42",
        "outputId": "34ac029f-28b7-4cc1-9afc-81bfe4304c4f"
      },
      "execution_count": 11,
      "outputs": [
        {
          "output_type": "execute_result",
          "data": {
            "text/plain": [
              "8"
            ]
          },
          "metadata": {},
          "execution_count": 11
        }
      ]
    },
    {
      "cell_type": "code",
      "source": [
        "tri1 = Triangle()\n",
        "tri1.get_data(4,5)\n",
        "tri1.show_data()"
      ],
      "metadata": {
        "colab": {
          "base_uri": "https://localhost:8080/"
        },
        "id": "NxDCFQC9t4MT",
        "outputId": "de0f46a6-0fb7-432e-94a0-04f0aed555e6"
      },
      "execution_count": 12,
      "outputs": [
        {
          "output_type": "execute_result",
          "data": {
            "text/plain": [
              "10.0"
            ]
          },
          "metadata": {},
          "execution_count": 12
        }
      ]
    },
    {
      "cell_type": "markdown",
      "source": [
        "### `Problem-5:` Write a program with class Bill. The users have the option to pay the bill either by cheque or by cash. Use the inheritance to model this situation."
      ],
      "metadata": {
        "id": "sEsGEqOHCSWG"
      }
    },
    {
      "cell_type": "code",
      "source": [
        "# Write code here\n",
        "class Bill:\n",
        "\n",
        "  def __init__(self,items,price):\n",
        "    self.total = 0\n",
        "    self.items = items\n",
        "    self.price = price\n",
        "\n",
        "    for i in self.price:\n",
        "      self.total = self.total + i\n",
        "\n",
        "  def display(self):\n",
        "    print('Item \\t\\t\\t Price')\n",
        "    for i in range(len(self.items)):\n",
        "      print(self.items[i],'\\t',self.price[i])\n",
        "    print(\"*\"*10)\n",
        "\n",
        "    print(\"Total\",self.total)\n",
        "\n",
        "class CashPayment(Bill):\n",
        "\n",
        "  def __init__(self,items,price,deno,value):\n",
        "    super().__init__(items,price)\n",
        "\n",
        "    self.deno = deno\n",
        "    self.value = value\n",
        "\n",
        "  def show_cash_payment(self):\n",
        "    super().display()\n",
        "    for i in range(len(self.deno)):\n",
        "      print(self.deno[i],\"*\",self.value[i],\"=\",self.deno[i]*self.value[i])\n",
        "\n",
        "class ChequePayment(Bill):\n",
        "\n",
        "  def __init__(self,items,price,cno,name):\n",
        "    super().__init__(items,price)\n",
        "\n",
        "    self.cno = cno\n",
        "    self.name = name\n",
        "\n",
        "  def show_cheque_payment(self):\n",
        "    super().display()\n",
        "    print('Cheque no',self.cno)\n",
        "    print('Bank name',self.name)\n"
      ],
      "metadata": {
        "id": "k5JzBMU1thXI"
      },
      "execution_count": 13,
      "outputs": []
    },
    {
      "cell_type": "code",
      "source": [
        "items = [\"External Hard Disk\", \"RAM\", \"Printer\", \"Pen Drive\"]\n",
        "price = [5000, 2000, 6000, 800]\n",
        "\n",
        "deno = [10, 20, 50, 100, 500, 2000]\n",
        "value = [1, 1, 1, 20, 4, 5]\n",
        "cash = CashPayment(items, price, deno, value)\n",
        "cash.show_cash_payment()"
      ],
      "metadata": {
        "id": "l0WFyP2PB3nf",
        "colab": {
          "base_uri": "https://localhost:8080/"
        },
        "outputId": "9616f313-a162-4034-aa99-e2479d17d745"
      },
      "execution_count": 14,
      "outputs": [
        {
          "output_type": "stream",
          "name": "stdout",
          "text": [
            "Item \t\t\t Price\n",
            "External Hard Disk \t 5000\n",
            "RAM \t 2000\n",
            "Printer \t 6000\n",
            "Pen Drive \t 800\n",
            "**********\n",
            "Total 13800\n",
            "10 * 1 = 10\n",
            "20 * 1 = 20\n",
            "50 * 1 = 50\n",
            "100 * 20 = 2000\n",
            "500 * 4 = 2000\n",
            "2000 * 5 = 10000\n"
          ]
        }
      ]
    },
    {
      "cell_type": "markdown",
      "source": [
        "###`Q-6:` FlexibleDict\n",
        "As of now we are accessing values from dictionary with exact keys. Now we want to amend accessing values functionality. if a dict have key `1` (int) the even if we try to access values by giving `'1'` (1 as str) as key, we should get the same result and vice versa.\n",
        "\n",
        "Write a class `FlexibleDict` upon builtin `dict` class with above required functionality.\n",
        "\n",
        "Hint- `dict[key] => dict.__getitem__(key)`"
      ],
      "metadata": {
        "id": "v1M5Yh9ZZO0z"
      }
    },
    {
      "cell_type": "markdown",
      "source": [
        "Ex.\n",
        "```\n",
        "fd = FlexibleDict()\n",
        "fd['a'] = 100\n",
        "print(fd['a']) # Like regular dict\n",
        "\n",
        "fd[5] = 500\n",
        "print(fd[5]) # Like regular dict\n",
        "\n",
        "fd[1] = 100\n",
        "print(fd['1']) # actual Key is int but still trying to access through str key.\n",
        "fd['1'] = 100\n",
        "print(fd[1])\n",
        "\n",
        "```\n",
        "`Output:`\n",
        "```\n",
        "100\n",
        "500\n",
        "100\n",
        "100\n",
        "\n",
        "```"
      ],
      "metadata": {
        "id": "uajGeWegbfda"
      }
    },
    {
      "cell_type": "code",
      "source": [],
      "metadata": {
        "id": "OHLbOtCxZ2nw"
      },
      "execution_count": null,
      "outputs": []
    },
    {
      "cell_type": "code",
      "source": [],
      "metadata": {
        "id": "7NM8r__dmeMf"
      },
      "execution_count": null,
      "outputs": []
    },
    {
      "cell_type": "code",
      "source": [],
      "metadata": {
        "id": "waHSud8Ymkz-"
      },
      "execution_count": null,
      "outputs": []
    }
  ]
}