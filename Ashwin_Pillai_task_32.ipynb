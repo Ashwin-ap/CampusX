{
  "nbformat": 4,
  "nbformat_minor": 0,
  "metadata": {
    "colab": {
      "provenance": []
    },
    "kernelspec": {
      "name": "python3",
      "display_name": "Python 3"
    },
    "language_info": {
      "name": "python"
    }
  },
  "cells": [
    {
      "cell_type": "markdown",
      "source": [
        "# Task for SQL DML session\n",
        "\n",
        "Load this dataset in your database and perform below given tasks.\n",
        "\n",
        "DataSet - https://docs.google.com/spreadsheets/d/e/2PACX-1vRa1wWwXmzxEvqITxj4OQTeLywlGTTsOTbhSRqKj2lPuGefjlci-DQhgLBPpgWXe8AAUu2WUBqY59X1/pub?gid=1030172542&single=true&output=csv\n",
        "\n",
        "Look for data description\n",
        "\n",
        "Kaggle - https://www.kaggle.com/datasets/thedevastator/insurance-claim-analysis-demographic-and-health?select=insurance_data.csv"
      ],
      "metadata": {
        "id": "O-kYKh3Z3HoZ"
      }
    },
    {
      "cell_type": "markdown",
      "source": [
        "### Perform the following queries\n",
        "\n",
        "1. Show records of 'male' patient from 'southwest' region.\n",
        "2. Show all records having bmi in range 30 to 45 both inclusive.\n",
        "3. Show minimum and maximum bloodpressure of diabetic patient who smokes. Make column names as MinBP and MaxBP respectively.\n",
        "4. Find no of unique patients who are not from southwest region.\n",
        "5. Total claim amount from male smoker.\n",
        "6. Select all records of south region.\n",
        "7. No of patient having normal blood pressure. Normal range[90-120]\n",
        "8. No of pateint belo 17 years of age having normal blood pressure as per below formula -\n",
        "    - BP normal range = 80+(age in years × 2) to 100 + (age in years × 2)\n",
        "\n",
        "    - Note: Formula taken just for practice, don't take in real sense.\n",
        "9. What is the average claim amount for non-smoking female patients who are diabetic?\n",
        "10. Write a SQL query to update the claim amount for the patient with PatientID = 1234 to 5000.\n",
        "11. Write a SQL query to delete all records for patients who are smokers and have no children.\n"
      ],
      "metadata": {
        "id": "HgeiRIpI3MjR"
      }
    },
    {
      "cell_type": "markdown",
      "source": [
        "**Anwers Below : **"
      ],
      "metadata": {
        "id": "w0tCU73am6nr"
      }
    },
    {
      "cell_type": "markdown",
      "source": [
        "Q1. SELECT *\n",
        "FROM insu\n",
        "WHERE gender='male' AND region='southwest'"
      ],
      "metadata": {
        "id": "MCZqbbmEhdoJ"
      }
    },
    {
      "cell_type": "markdown",
      "source": [
        "Q2. SELECT *\n",
        "FROM insu\n",
        "WHERE bmi BETWEEN 30 and 45;"
      ],
      "metadata": {
        "id": "0ZCj4sZLhdun"
      }
    },
    {
      "cell_type": "markdown",
      "source": [
        "Q3. SELECT MIN(bloodpressure) AS 'MinBP', MAX(bloodpressure) AS 'MaxBP'\n",
        "FROM insu\n",
        "WHERE diabetic = 'Yes' AND smoker='Yes';"
      ],
      "metadata": {
        "id": "9RkZ0uF8hku5"
      }
    },
    {
      "cell_type": "markdown",
      "source": [
        "Q4. SELECT COUNT(DISTINCT(PatientID)) AS 'Unique patients'\n",
        "FROM insu\n",
        "WHERE region <> 'southwest';"
      ],
      "metadata": {
        "id": "H_Wdkch2hk9V"
      }
    },
    {
      "cell_type": "markdown",
      "source": [
        "Q5. select SUM(claim) AS 'total claim'\n",
        "from insu\n",
        "where gender='male' and smoker='Yes'\n"
      ],
      "metadata": {
        "id": "QBfMjBr8hlY_"
      }
    },
    {
      "cell_type": "markdown",
      "source": [
        "Q6. SELECT *\n",
        "FROM insu\n",
        "WHERE region LIKE 'south%'"
      ],
      "metadata": {
        "id": "ys31Lz7Ghlj2"
      }
    },
    {
      "cell_type": "markdown",
      "source": [
        "Q7. SELECT COUNT(*) AS 'total patients with normal blood pressure'\n",
        "FROM insu\n",
        "WHERE bloodpressure BETWEEN 90 AND 120;"
      ],
      "metadata": {
        "id": "evouVOY0hlsx"
      }
    },
    {
      "cell_type": "markdown",
      "source": [
        "Q8. SELECT COUNT(*) AS num_of_patients\n",
        "FROM insu\n",
        "WHERE age < 17\n",
        "AND bloodpressure BETWEEN (80 + (age * 2)) AND (100 + (age * 2));\n"
      ],
      "metadata": {
        "id": "CC26BReThl1t"
      }
    },
    {
      "cell_type": "markdown",
      "source": [
        "Q9. SELECT AVG(claim) AS 'Average Claim'\n",
        "FROM insu\n",
        "WHERE gender='female' AND smoker='No' AND diabetic='Yes';"
      ],
      "metadata": {
        "id": "AnOSC7oshl-B"
      }
    },
    {
      "cell_type": "markdown",
      "source": [
        "Q10. UPDATE campusx.insu\n",
        "SET claim = 5000\n",
        "WHERE PatientID = 1234;"
      ],
      "metadata": {
        "id": "2P551axWhmG2"
      }
    },
    {
      "cell_type": "markdown",
      "source": [
        "Q11. DELETE FROM insu\n",
        "WHERE smoker='Yes' AND children=0\n"
      ],
      "metadata": {
        "id": "VRK7gjlLhmP2"
      }
    },
    {
      "cell_type": "code",
      "source": [],
      "metadata": {
        "id": "6yNTWRGxhv3n"
      },
      "execution_count": null,
      "outputs": []
    }
  ]
}