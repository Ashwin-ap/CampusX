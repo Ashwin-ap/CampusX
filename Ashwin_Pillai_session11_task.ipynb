{
  "nbformat": 4,
  "nbformat_minor": 0,
  "metadata": {
    "colab": {
      "provenance": []
    },
    "kernelspec": {
      "name": "python3",
      "display_name": "Python 3"
    },
    "language_info": {
      "name": "python"
    }
  },
  "cells": [
    {
      "cell_type": "markdown",
      "source": [
        "## Exception Handling\n"
      ],
      "metadata": {
        "id": "ajVfqio_GinI"
      }
    },
    {
      "cell_type": "markdown",
      "source": [
        "###`Q-1`: You are given a function definition. There might be several issues on execution of this function. You are asked to do exception handling for diffrent errors that this function goes in to `without altering this function`. And print error text.\n",
        "\n"
      ],
      "metadata": {
        "id": "0qnQkJtnGozz"
      }
    },
    {
      "cell_type": "markdown",
      "source": [
        "Function parameters `l -> list, s -> could be anything`\n",
        "\n",
        "```\n",
        "def function(l: list, s, **args):\n",
        "    last_element = l[-1]\n",
        "    \n",
        "    l[int(s)]=10\n",
        "    any_element = l[int(s)+10]\n",
        "    l[s]=10\n",
        "    \n",
        "    res = sum(l)\n",
        "    \n",
        "    p = args['p']\n",
        "    # print(p)\n",
        "    return res/last_element * p + any_element\n",
        "\n",
        "```\n",
        "Check for different function calls:-\n",
        "\n",
        "```\n",
        "function([1,2,1], 12)\n",
        "function([1,2,1]*9, '1-2')\n",
        "function([1,'2',1]*9, 12)\n",
        "function([1,'2',1]*9, 12)\n",
        "function([1,2,0]*9, 12  )\n",
        "function([1,2,1]*9, 12, p=None)\n",
        "function([1,2,0]*9, 12, p=10)\n",
        "```"
      ],
      "metadata": {
        "id": "2no_EB2fGyGq"
      }
    },
    {
      "cell_type": "code",
      "source": [
        "# Write code here\n",
        "\n",
        "def function(l: list, s, **args):\n",
        "    last_element = l[-1]\n",
        "\n",
        "    l[int(s)]=10\n",
        "    any_element = l[int(s)+10]\n",
        "    l[s]=10\n",
        "\n",
        "    res = sum(l)\n",
        "\n",
        "    p = args['p']\n",
        "    # print(p)\n",
        "    return res/last_element * p + any_element\n",
        "\n",
        "try:\n",
        "  res = function([1,2,1]*9, 12, p=10)\n",
        "except IndexError as i:\n",
        "  print(type(i))\n",
        "  print(i)\n",
        "except ValueError as v:\n",
        "  print(type(v))\n",
        "  print(v)\n",
        "except TypeError as t:\n",
        "  print(type(t))\n",
        "  print(t)\n",
        "except KeyError as k:\n",
        "  print(type(k))\n",
        "  print(k)\n",
        "except ZeroDivisionError as z:\n",
        "  print(type(z))\n",
        "  print(z)\n",
        "else:\n",
        "  print(\"Result is : \", res)\n",
        "finally:\n",
        "  print(\"Job is completed\")"
      ],
      "metadata": {
        "id": "VoaL4_9eGjFU",
        "colab": {
          "base_uri": "https://localhost:8080/"
        },
        "outputId": "deda1a74-b0ae-4535-837d-7eea1fdead29"
      },
      "execution_count": 16,
      "outputs": [
        {
          "output_type": "stream",
          "name": "stdout",
          "text": [
            "Result is :  452.0\n",
            "Job is completed\n"
          ]
        }
      ]
    },
    {
      "cell_type": "markdown",
      "source": [
        "###`Q-2:` You are given a code snippet. There might be several issues on execution of this code. You are asked to do exception handling for diffrent errors, condition is what ever happens we need to execute last line printing correct result of `sum of elements`.\n",
        "\n",
        "List have elemnts as any no of  `key-pair dict with key as list index and value as any integer`, `integers` and `numeric-strings`. There is always only one element in the dict.\n",
        "\n",
        "\n",
        "```\n",
        "l = [{0:2},2,3,4,'5', {5:10}]\n",
        "# For calculating sum of above list\n",
        "s=0\n",
        "for i in range(len(l)):\n",
        "    #You can Edit code from here\n",
        "    s += l[i].get(i)\n",
        "    s += l[i]\n",
        "    s += int(l[i])\n",
        "\n",
        "\n",
        "print(s)\n",
        "```"
      ],
      "metadata": {
        "id": "HuLMy2fVG9sL"
      }
    },
    {
      "cell_type": "code",
      "source": [
        "# Write code here\n",
        "l = [{0:2},2,3,4,'5', {5:10}]\n",
        "s=0\n",
        "for i in range(len(l)):\n",
        "    try:\n",
        "        s += l[i]\n",
        "    except TypeError:\n",
        "        try:\n",
        "            s += l[i].get(i)\n",
        "        except AttributeError:\n",
        "            s += int(l[i])\n",
        "print(s)"
      ],
      "metadata": {
        "id": "pEP8JU0qHAf8",
        "colab": {
          "base_uri": "https://localhost:8080/"
        },
        "outputId": "d63947ed-32a6-40a3-820c-8e69936b9f32"
      },
      "execution_count": 23,
      "outputs": [
        {
          "output_type": "stream",
          "name": "stdout",
          "text": [
            "26\n"
          ]
        }
      ]
    },
    {
      "cell_type": "markdown",
      "source": [
        "### `Q-3:`: File Handling with Exception handling\n",
        "\n",
        "Write a program that opens a text file and write data to it as \"Hello, Good Morning!!!\". Handle exceptions that can be generated during the I/O operations. Do not show the success message on the main exception handling block (write inside the else block)."
      ],
      "metadata": {
        "id": "ohE2fDTXHIan"
      }
    },
    {
      "cell_type": "code",
      "source": [
        "# write code here\n",
        "try:\n",
        "  with open('sample.txt', 'w') as f:\n",
        "    f.write('Hello, Good Morning!!!')\n",
        "except IOError:\n",
        "  print(\"Error occured\")\n",
        "else:\n",
        "  print(\"Content written successfully\")"
      ],
      "metadata": {
        "id": "iOeiWrcIHPlY",
        "colab": {
          "base_uri": "https://localhost:8080/"
        },
        "outputId": "087e89bc-b253-4fd1-ac5e-29f656f9f7c0"
      },
      "execution_count": 24,
      "outputs": [
        {
          "output_type": "stream",
          "name": "stdout",
          "text": [
            "Content written successfully\n"
          ]
        }
      ]
    },
    {
      "cell_type": "markdown",
      "source": [
        "### `Q-4`: Number game program.\n",
        "\n",
        "Write a number game program. Ask the user to enter a number. If the number is greater than number to be guessed, raise a **ValueTooLarge** exception. If the value is smaller the number to be guessed the, raise a **ValueTooSmall** exception and prompt the user to enter again. Quit the program only when the user enters the correct number. Also raise **GuessError** if user guess a number less than 1."
      ],
      "metadata": {
        "id": "ru8g8-_bHTUf"
      }
    },
    {
      "cell_type": "code",
      "source": [
        "# Write code here\n",
        "import random\n",
        "\n",
        "class ValueTooLarge(Exception):\n",
        "  def display(self):\n",
        "    print('The guessed value is too large')\n",
        "\n",
        "class ValueTooSmall(Exception):\n",
        "  def display(self):\n",
        "    print('The guessed value is too small')\n",
        "\n",
        "class GuessError(Exception):\n",
        "  def display(self):\n",
        "    print('The guessed value is less than 1')\n",
        "\n",
        "num = random.randint(1, 10)\n",
        "\n",
        "while 1:\n",
        "  try:\n",
        "    guess = int(input(\"Enter a number\"))\n",
        "\n",
        "    if guess > num:\n",
        "      raise ValueTooLarge\n",
        "    if guess < num:\n",
        "      raise ValueTooSmall\n",
        "    if guess < 1:\n",
        "      raise GuessError\n",
        "    if guess == num:\n",
        "      print(\"Guessed Correctly\")\n",
        "      break\n",
        "  except ValueTooLarge as l:\n",
        "    l.display()\n",
        "  except ValueTooSmall as s:\n",
        "    s.display()\n",
        "  except GuessError as g:\n",
        "    g.display()"
      ],
      "metadata": {
        "id": "QftlN5LJHZSX",
        "colab": {
          "base_uri": "https://localhost:8080/"
        },
        "outputId": "d095fc90-277f-42e8-a9aa-18ea71ec299f"
      },
      "execution_count": 28,
      "outputs": [
        {
          "output_type": "stream",
          "name": "stdout",
          "text": [
            "Enter a number6\n",
            "The guessed value is too large\n",
            "Enter a number3\n",
            "The guessed value is too small\n",
            "Enter a number4\n",
            "Guessed Correctly\n"
          ]
        }
      ]
    },
    {
      "cell_type": "markdown",
      "source": [
        "### `Q-5:` Cast vote\n",
        "\n",
        "Write a program that validate name and age as entered by the user to determine whether the person can cast vote or not. To handle the age, create **InvalidAge** exception and for name, create **InvalidName** exception. The name will be invalid when the string will be empty or name has only one word.\n",
        "\n",
        "Example 1:\n",
        "\n",
        "Input:\n",
        "\n",
        "```bash\n",
        "Enter the name:               goransh singh\n",
        "Enter the age: 25\n",
        "```\n",
        "\n",
        "Output:\n",
        "\n",
        "```bash\n",
        "Goransh Singh  Congratulation !!! You can vote.\n",
        "```"
      ],
      "metadata": {
        "id": "ZsGI_40fHcsd"
      }
    },
    {
      "cell_type": "code",
      "source": [
        "# Write code here\n",
        "\n",
        "class InvalidAge(Exception):\n",
        "  def display(self):\n",
        "    print(\"Not eligible to vote\")\n",
        "\n",
        "class InvalidName(Exception):\n",
        "  def display(self):\n",
        "    print('Not a valid name')\n",
        "\n",
        "try:\n",
        "  name = input(\"Enter your name : \")\n",
        "  if len(name)==0 or len(name.split()) < 2:\n",
        "    raise InvalidName\n",
        "\n",
        "  age = int(input(\"Enter your age\"))\n",
        "  if age<18:\n",
        "    raise InvalidAge\n",
        "\n",
        "except InvalidName as n:\n",
        "  n.display()\n",
        "except InvalidAge as a:\n",
        "  a.display()\n",
        "\n",
        "else:\n",
        "  print('You can vote buddy')\n",
        "\n",
        "finally:\n",
        "  print('Thank You')\n"
      ],
      "metadata": {
        "id": "OHL3UiS4Hi3U",
        "colab": {
          "base_uri": "https://localhost:8080/"
        },
        "outputId": "6b70a233-c79f-4650-e503-5625a297b456"
      },
      "execution_count": 30,
      "outputs": [
        {
          "output_type": "stream",
          "name": "stdout",
          "text": [
            "Enter your name : Ashwin Pillai\n",
            "Enter your age23\n",
            "You can vote buddy\n",
            "Thank You\n"
          ]
        }
      ]
    },
    {
      "cell_type": "markdown",
      "source": [
        "### `Q-6`: Write a python function which infinitely prints natural numbers in a single line. Raise the **StopIteration** exce|ption after displaying first 20 numnbers to exit from the program."
      ],
      "metadata": {
        "id": "SCvs0QjgHlOG"
      }
    },
    {
      "cell_type": "code",
      "source": [
        "# Write code here\n",
        "\n",
        "def display(n):\n",
        "  i=0\n",
        "  while True:\n",
        "    try:\n",
        "      n+=1\n",
        "      i+=1\n",
        "      if i==21:\n",
        "        raise StopIteration\n",
        "\n",
        "    except StopIteration:\n",
        "      break\n",
        "\n",
        "    else:\n",
        "      print(n, end=' ')\n",
        "\n",
        "display(0)"
      ],
      "metadata": {
        "id": "Lc5ilNgNHoSx",
        "colab": {
          "base_uri": "https://localhost:8080/"
        },
        "outputId": "c24b6f4f-1683-4325-9c5b-0cdb6eeeb869"
      },
      "execution_count": 33,
      "outputs": [
        {
          "output_type": "stream",
          "name": "stdout",
          "text": [
            "1 2 3 4 5 6 7 8 9 10 11 12 13 14 15 16 17 18 19 20 "
          ]
        }
      ]
    },
    {
      "cell_type": "code",
      "source": [],
      "metadata": {
        "id": "3dC0cHd_iBJN"
      },
      "execution_count": null,
      "outputs": []
    }
  ]
}