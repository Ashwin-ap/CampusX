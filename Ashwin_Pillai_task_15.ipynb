{
  "nbformat": 4,
  "nbformat_minor": 0,
  "metadata": {
    "colab": {
      "provenance": []
    },
    "kernelspec": {
      "name": "python3",
      "display_name": "Python 3"
    },
    "language_info": {
      "name": "python"
    }
  },
  "cells": [
    {
      "cell_type": "markdown",
      "source": [
        "###`Q-1:` Create a random 3x4 matrix with value between 0-100. And perform below tasks\n",
        "\n",
        "    i. Sort this matrix. np.sort()\n",
        "    ii. Sort this matrix based on values in 2nd column.\n",
        "    iii. Sort this matrix based on max value in each row.\n",
        "    iv. Sort based on elements value.\n"
      ],
      "metadata": {
        "id": "J88qfqQEk_sT"
      }
    },
    {
      "cell_type": "markdown",
      "source": [
        "See examples:\n",
        "```\n",
        "arr =\n",
        "    [[92 90 74]\n",
        "    [ 6 63 93]\n",
        "    [15 93 96]\n",
        "    [70 60 48]]\n",
        "```\n",
        "```\n",
        "i. np.sort\n",
        "[[74 90 92]\n",
        " [ 6 63 93]\n",
        " [15 93 96]\n",
        " [48 60 70]]\n",
        "\n",
        "ii. based on 2nd column\n",
        "[[70 60 48]\n",
        " [ 6 63 93]\n",
        " [92 90 74]\n",
        " [15 93 96]]\n",
        "\n",
        "iii. based on row max- ascending\n",
        "[[15 93 96]\n",
        " [ 6 63 93]\n",
        " [92 90 74]\n",
        " [70 60 48]]\n",
        "\n",
        "iv. based on elements value\n",
        "[[ 6 15 48]\n",
        " [60 63 70]\n",
        " [74 90 92]\n",
        " [93 93 96]]\n",
        "\n",
        "```"
      ],
      "metadata": {
        "id": "xpOwOdhqlE9R"
      }
    },
    {
      "cell_type": "code",
      "source": [
        "# code here\n",
        "import numpy as np"
      ],
      "metadata": {
        "id": "Auy-guUwlALv"
      },
      "execution_count": 1,
      "outputs": []
    },
    {
      "cell_type": "code",
      "source": [
        "arr = np.random.randint(0,100, (4,3))\n",
        "print(arr)"
      ],
      "metadata": {
        "colab": {
          "base_uri": "https://localhost:8080/"
        },
        "id": "uullo6TdQSTw",
        "outputId": "2384bd6a-822d-412f-cdf5-71ef33c76ebc"
      },
      "execution_count": 2,
      "outputs": [
        {
          "output_type": "stream",
          "name": "stdout",
          "text": [
            "[[96 39  0]\n",
            " [16 14 61]\n",
            " [77 39 91]\n",
            " [59 69 19]]\n"
          ]
        }
      ]
    },
    {
      "cell_type": "code",
      "source": [
        "#1\n",
        "np.sort(arr)"
      ],
      "metadata": {
        "colab": {
          "base_uri": "https://localhost:8080/"
        },
        "id": "yo2iKQj3QSaW",
        "outputId": "d013576b-a6d1-4c94-88f4-c0bcdced70cc"
      },
      "execution_count": 3,
      "outputs": [
        {
          "output_type": "execute_result",
          "data": {
            "text/plain": [
              "array([[ 0, 39, 96],\n",
              "       [14, 16, 61],\n",
              "       [39, 77, 91],\n",
              "       [19, 59, 69]])"
            ]
          },
          "metadata": {},
          "execution_count": 3
        }
      ]
    },
    {
      "cell_type": "code",
      "source": [
        "#2\n",
        "arr[arr[:, 1].argsort()]"
      ],
      "metadata": {
        "colab": {
          "base_uri": "https://localhost:8080/"
        },
        "id": "4uHFa3_QQSej",
        "outputId": "2b13c2e3-38da-414d-973f-ef8859457a5d"
      },
      "execution_count": 7,
      "outputs": [
        {
          "output_type": "execute_result",
          "data": {
            "text/plain": [
              "array([[16, 14, 61],\n",
              "       [96, 39,  0],\n",
              "       [77, 39, 91],\n",
              "       [59, 69, 19]])"
            ]
          },
          "metadata": {},
          "execution_count": 7
        }
      ]
    },
    {
      "cell_type": "code",
      "source": [
        "#3\n",
        "print(np.array(sorted(arr,key = lambda x: max(x))))"
      ],
      "metadata": {
        "colab": {
          "base_uri": "https://localhost:8080/"
        },
        "id": "DUBEEG72QShj",
        "outputId": "9fc37d25-e958-400c-c6c4-da0ac1ddf9b0"
      },
      "execution_count": 8,
      "outputs": [
        {
          "output_type": "stream",
          "name": "stdout",
          "text": [
            "[[16 14 61]\n",
            " [59 69 19]\n",
            " [77 39 91]\n",
            " [96 39  0]]\n"
          ]
        }
      ]
    },
    {
      "cell_type": "code",
      "source": [
        "#4\n",
        "np.sort(arr, axis=None).reshape(4,3)"
      ],
      "metadata": {
        "colab": {
          "base_uri": "https://localhost:8080/"
        },
        "id": "G0T1OKvPQSks",
        "outputId": "6ecf10d9-ce4f-4624-e4e3-552946f1787a"
      },
      "execution_count": 9,
      "outputs": [
        {
          "output_type": "execute_result",
          "data": {
            "text/plain": [
              "array([[ 0, 14, 16],\n",
              "       [19, 39, 39],\n",
              "       [59, 61, 69],\n",
              "       [77, 91, 96]])"
            ]
          },
          "metadata": {},
          "execution_count": 9
        }
      ]
    },
    {
      "cell_type": "markdown",
      "source": [
        "###`Q-2:` There is an array of marks of 5 students in 4 subjects. Further you are asked to perform below task.\n",
        "    i. Add marks every student of an extra subject in the same array.\n",
        "    ii. Add two new students marks in respective 5 subjects.(one subject added in above task)\n",
        "    iii. Add extra column with sum of all subjects(5-subjects) marks\n",
        "    iv. Sort the array(non-ascending order) on total marks column--one added in above task. Show top 2 rows.\n",
        "\n",
        "Note: Change dimension of arrays during concatenation or appending if required."
      ],
      "metadata": {
        "id": "Jx_I3gx9lBay"
      }
    },
    {
      "cell_type": "markdown",
      "source": [
        "Given Array-\n",
        "```\n",
        "marks = [[13, 10,  9, 33],\n",
        "       [63, 46, 90, 42],\n",
        "       [39, 76, 13, 29],\n",
        "       [82,  9, 29, 78],\n",
        "       [67, 61, 59, 36]]\n",
        "\n",
        "extra_subject = [41, 87, 72, 36, 92]\n",
        "#Two extra students record-\n",
        "rec1 = [77, 83, 98, 95, 89]\n",
        "rec2 = [92, 71, 52, 61, 53]\n",
        "```"
      ],
      "metadata": {
        "id": "lXF-CE6ylNIw"
      }
    },
    {
      "cell_type": "code",
      "source": [
        "marks = np.array([[13, 10,  9, 33],\n",
        "       [63, 46, 90, 42],\n",
        "       [39, 76, 13, 29],\n",
        "       [82,  9, 29, 78],\n",
        "       [67, 61, 59, 36]])\n",
        "\n",
        "extra_subject = np.array([41, 87, 72, 36, 92]).reshape(-1,1)"
      ],
      "metadata": {
        "id": "7YKsWO2olMkq"
      },
      "execution_count": 12,
      "outputs": []
    },
    {
      "cell_type": "code",
      "source": [
        "marks = np.concatenate([marks, extra_subject], axis =1)"
      ],
      "metadata": {
        "id": "tKHgWscuRsrr"
      },
      "execution_count": 13,
      "outputs": []
    },
    {
      "cell_type": "code",
      "source": [
        "#2\n",
        "rec1 = np.array([77, 83, 98, 95, 89]).reshape(1,-1)\n",
        "rec2 = np.array([92, 71, 52, 61, 53]).reshape(1,-1)\n",
        "\n",
        "np.concatenate([marks, rec1, rec2], axis = 0)"
      ],
      "metadata": {
        "colab": {
          "base_uri": "https://localhost:8080/"
        },
        "id": "om9wIH2sR-Ii",
        "outputId": "3c607174-e88f-4b71-fe89-06a6e2c873d3"
      },
      "execution_count": 17,
      "outputs": [
        {
          "output_type": "execute_result",
          "data": {
            "text/plain": [
              "array([[13, 10,  9, 33, 41],\n",
              "       [63, 46, 90, 42, 87],\n",
              "       [39, 76, 13, 29, 72],\n",
              "       [82,  9, 29, 78, 36],\n",
              "       [67, 61, 59, 36, 92],\n",
              "       [77, 83, 98, 95, 89],\n",
              "       [92, 71, 52, 61, 53]])"
            ]
          },
          "metadata": {},
          "execution_count": 17
        }
      ]
    },
    {
      "cell_type": "code",
      "source": [
        "#3\n",
        "sum_stud = marks.sum(axis=1, keepdims=True)\n",
        "marks = np.concatenate([marks, sum_stud], axis=1)"
      ],
      "metadata": {
        "id": "AvWHF3ZTRsx0"
      },
      "execution_count": 18,
      "outputs": []
    },
    {
      "cell_type": "code",
      "source": [
        "#4\n",
        "np.array(sorted(marks, key=lambda x:x[-1], reverse=True))"
      ],
      "metadata": {
        "colab": {
          "base_uri": "https://localhost:8080/"
        },
        "id": "r5fP99hxRs3w",
        "outputId": "c9ac974d-f542-49b1-b3bf-a6a0a55a2474"
      },
      "execution_count": 20,
      "outputs": [
        {
          "output_type": "execute_result",
          "data": {
            "text/plain": [
              "array([[ 63,  46,  90,  42,  87, 328],\n",
              "       [ 67,  61,  59,  36,  92, 315],\n",
              "       [ 82,   9,  29,  78,  36, 234],\n",
              "       [ 39,  76,  13,  29,  72, 229],\n",
              "       [ 13,  10,   9,  33,  41, 106]])"
            ]
          },
          "metadata": {},
          "execution_count": 20
        }
      ]
    },
    {
      "cell_type": "markdown",
      "source": [
        "###`Q-3:` Find unique arrays from a 2D array column wise and row wise.\n",
        "```\n",
        "arr = np.array([[1,2,3,3,1,1],\n",
        "                [0,9,1,2,8,8],\n",
        "                [1,2,3,8,8,8],\n",
        "                [1,2,3,3,1,1]])\n",
        "```\n",
        "Expected Result-\n",
        "```\n",
        "Row Wise\n",
        "[[0 9 1 2 8 8]\n",
        " [1 2 3 3 1 1]\n",
        " [1 2 3 8 8 8]]\n",
        "\n",
        "Col Wise\n",
        "[[1 1 2 3 3]\n",
        " [0 8 9 1 2]\n",
        " [1 8 2 3 8]\n",
        " [1 1 2 3 3]]\n",
        "```"
      ],
      "metadata": {
        "id": "VmOyK_8klRqR"
      }
    },
    {
      "cell_type": "code",
      "source": [
        "# code here\n",
        "arr = np.array([[1,2,3,3,1,1],\n",
        "                [0,9,1,2,8,8],\n",
        "                [1,2,3,8,8,8],\n",
        "                [1,2,3,3,1,1]])\n",
        "\n",
        "print(np.unique(arr, axis =0))\n",
        "\n",
        "print(np.unique(arr, axis =1))"
      ],
      "metadata": {
        "id": "LJl10VQrlU5q",
        "colab": {
          "base_uri": "https://localhost:8080/"
        },
        "outputId": "5bf7204a-036d-4c8f-bd6a-8bb1ad0a5cb9"
      },
      "execution_count": 23,
      "outputs": [
        {
          "output_type": "stream",
          "name": "stdout",
          "text": [
            "[[0 9 1 2 8 8]\n",
            " [1 2 3 3 1 1]\n",
            " [1 2 3 8 8 8]]\n",
            "[[1 1 2 3 3]\n",
            " [0 8 9 1 2]\n",
            " [1 8 2 3 8]\n",
            " [1 1 2 3 3]]\n"
          ]
        }
      ]
    },
    {
      "cell_type": "markdown",
      "source": [
        "###`Q-4:` Flip given 2-D array along both axes at the same time."
      ],
      "metadata": {
        "id": "RaXwVkywlWY2"
      }
    },
    {
      "cell_type": "code",
      "source": [
        "# code here\n",
        "\n",
        "np.flip(arr, axis=[0,1])"
      ],
      "metadata": {
        "id": "mN7-4G8Kleeq",
        "colab": {
          "base_uri": "https://localhost:8080/"
        },
        "outputId": "1787b258-c189-45ff-8c93-8472381bc509"
      },
      "execution_count": 24,
      "outputs": [
        {
          "output_type": "execute_result",
          "data": {
            "text/plain": [
              "array([[1, 1, 3, 3, 2, 1],\n",
              "       [8, 8, 8, 3, 2, 1],\n",
              "       [8, 8, 2, 1, 9, 0],\n",
              "       [1, 1, 3, 3, 2, 1]])"
            ]
          },
          "metadata": {},
          "execution_count": 24
        }
      ]
    },
    {
      "cell_type": "markdown",
      "source": [
        "### `Q-5:` Get row numbers of NumPy array having element larger than X.\n",
        "```\n",
        "arr = [[1,2,3,4,5],\n",
        "      [10,-3,30,4,5],\n",
        "      [3,2,5,-4,5],\n",
        "      [9,7,3,6,5]]\n",
        "\n",
        "X = 6\n",
        "```"
      ],
      "metadata": {
        "id": "X0S7BUNTlfoq"
      }
    },
    {
      "cell_type": "code",
      "source": [
        "# code here\n",
        "arr = np.array([[1,2,3,4,5],\n",
        "      [10,-3,30,4,5],\n",
        "      [3,2,5,-4,5],\n",
        "      [9,7,3,6,5]])\n",
        "\n",
        "X = 6\n",
        "\n",
        "np.where(np.any(arr>X, axis=1))"
      ],
      "metadata": {
        "id": "bi8jRmWhlkBU",
        "colab": {
          "base_uri": "https://localhost:8080/"
        },
        "outputId": "cf5b913b-c289-461f-a7ef-ee31682f4fa5"
      },
      "execution_count": 26,
      "outputs": [
        {
          "output_type": "execute_result",
          "data": {
            "text/plain": [
              "(array([1, 3]),)"
            ]
          },
          "metadata": {},
          "execution_count": 26
        }
      ]
    },
    {
      "cell_type": "markdown",
      "source": [
        "### `Q-6:` How to convert an array of arrays into a flat 1d array?\n"
      ],
      "metadata": {
        "id": "DSCQMo4mlnDG"
      }
    },
    {
      "cell_type": "code",
      "source": [
        "# These arrays are given.\n",
        "arr1 = np.arange(3)\n",
        "arr2 = np.arange(3,7)\n",
        "arr3 = np.arange(7,10)"
      ],
      "metadata": {
        "id": "QZhSkUT2lsJW"
      },
      "execution_count": null,
      "outputs": []
    },
    {
      "cell_type": "code",
      "source": [
        "# code here\n",
        "arr1 = np.arange(3)\n",
        "arr2 = np.arange(3,7)\n",
        "arr3 = np.arange(7,10)\n",
        "\n",
        "np.concatenate([arr1, arr2, arr3])"
      ],
      "metadata": {
        "id": "f42OXNrFls0I",
        "colab": {
          "base_uri": "https://localhost:8080/"
        },
        "outputId": "904c5267-4d53-4f9a-f387-c19076c8e9bc"
      },
      "execution_count": 28,
      "outputs": [
        {
          "output_type": "execute_result",
          "data": {
            "text/plain": [
              "array([0, 1, 2, 3, 4, 5, 6, 7, 8, 9])"
            ]
          },
          "metadata": {},
          "execution_count": 28
        }
      ]
    },
    {
      "cell_type": "markdown",
      "source": [
        "### `Q-7:` You are given a array. You have to find the minimum and maximum array element and remove that from the array.\n",
        "\n",
        "```python\n",
        "import numpy as np\n",
        "\n",
        "np.random.seed(400)\n",
        "arr = np.random.randint(100, 1000, 200).reshape((1, 200))\n",
        "```"
      ],
      "metadata": {
        "id": "A1J4oOVCluqO"
      }
    },
    {
      "cell_type": "code",
      "source": [
        "# code here\n",
        "\n",
        "np.random.seed(400)\n",
        "arr = np.random.randint(100, 1000, 200).reshape((1, 200))\n",
        "\n",
        "max_ele = arr.argmax()\n",
        "min_ele = arr.argmin()\n",
        "\n",
        "np.delete(arr, max_ele, axis =1)\n",
        "\n",
        "np.delete(arr, min_ele, axis =1)\n",
        "\n"
      ],
      "metadata": {
        "id": "c6kmgtUJlybZ",
        "colab": {
          "base_uri": "https://localhost:8080/"
        },
        "outputId": "2a4cd985-f727-496c-866b-6ba9faa05661"
      },
      "execution_count": 31,
      "outputs": [
        {
          "output_type": "execute_result",
          "data": {
            "text/plain": [
              "array([[448, 563, 418, 240, 507, 362, 345, 236, 719, 291, 298, 639, 458,\n",
              "        387, 262, 613, 267, 882, 181, 425, 790, 635, 889, 818, 872, 967,\n",
              "        277, 470, 336, 920, 917, 295, 557, 830, 506, 385, 353, 975, 592,\n",
              "        997, 137, 340, 222, 215, 472, 459, 617, 649, 935, 956, 914, 932,\n",
              "        645, 952, 921, 490, 527, 972, 278, 307, 840, 958, 246, 449, 251,\n",
              "        957, 627, 920, 824, 356, 825, 173, 323, 372, 960, 710, 464, 244,\n",
              "        782, 763, 635, 436, 774, 171, 469, 178, 458, 624, 211, 771, 270,\n",
              "        308, 231, 952, 514, 699, 702, 433, 900, 373, 318, 998, 265, 503,\n",
              "        320, 230, 324, 922, 967, 620, 743, 527, 117, 566, 804, 123, 946,\n",
              "        587, 227, 853, 757, 944, 328, 855, 930, 325, 729, 426, 514, 296,\n",
              "        879, 575, 936, 705, 209, 191, 743, 510, 513, 628, 559, 658, 528,\n",
              "        395, 525, 922, 136, 496, 225, 895, 975, 263, 908, 420, 711, 800,\n",
              "        976, 786, 235, 930, 859, 618, 226, 695, 460, 218, 483, 490, 803,\n",
              "        621, 453, 193, 607, 677, 637, 728, 724, 534, 748, 291, 194, 761,\n",
              "        875, 687, 569, 228, 482, 781, 554, 654, 739, 885, 197, 266, 228,\n",
              "        892, 207, 883, 588]])"
            ]
          },
          "metadata": {},
          "execution_count": 31
        }
      ]
    },
    {
      "cell_type": "markdown",
      "source": [
        "### `Q-8:` You are given an arrays. You have to limit this array's elements between 100 to 200. $arr ∈ [100, 700]$. So replace those values accordingly with the minimum and maximum value. Then sort the array and perform the cumulative sum of that array."
      ],
      "metadata": {
        "id": "0dHN1sdnl0Jy"
      }
    },
    {
      "cell_type": "code",
      "source": [
        "# code here\n",
        "\n",
        "arr1 = np.random.randint(0,2000, 500)\n",
        "np.sort(np.clip(arr, 0,200))"
      ],
      "metadata": {
        "id": "a3YF_E-Hlza7",
        "colab": {
          "base_uri": "https://localhost:8080/"
        },
        "outputId": "f9df87d7-cd19-4315-cc41-421043b48e55"
      },
      "execution_count": 32,
      "outputs": [
        {
          "output_type": "execute_result",
          "data": {
            "text/plain": [
              "array([[103, 117, 123, 136, 137, 171, 173, 178, 181, 191, 193, 194, 197,\n",
              "        200, 200, 200, 200, 200, 200, 200, 200, 200, 200, 200, 200, 200,\n",
              "        200, 200, 200, 200, 200, 200, 200, 200, 200, 200, 200, 200, 200,\n",
              "        200, 200, 200, 200, 200, 200, 200, 200, 200, 200, 200, 200, 200,\n",
              "        200, 200, 200, 200, 200, 200, 200, 200, 200, 200, 200, 200, 200,\n",
              "        200, 200, 200, 200, 200, 200, 200, 200, 200, 200, 200, 200, 200,\n",
              "        200, 200, 200, 200, 200, 200, 200, 200, 200, 200, 200, 200, 200,\n",
              "        200, 200, 200, 200, 200, 200, 200, 200, 200, 200, 200, 200, 200,\n",
              "        200, 200, 200, 200, 200, 200, 200, 200, 200, 200, 200, 200, 200,\n",
              "        200, 200, 200, 200, 200, 200, 200, 200, 200, 200, 200, 200, 200,\n",
              "        200, 200, 200, 200, 200, 200, 200, 200, 200, 200, 200, 200, 200,\n",
              "        200, 200, 200, 200, 200, 200, 200, 200, 200, 200, 200, 200, 200,\n",
              "        200, 200, 200, 200, 200, 200, 200, 200, 200, 200, 200, 200, 200,\n",
              "        200, 200, 200, 200, 200, 200, 200, 200, 200, 200, 200, 200, 200,\n",
              "        200, 200, 200, 200, 200, 200, 200, 200, 200, 200, 200, 200, 200,\n",
              "        200, 200, 200, 200, 200]])"
            ]
          },
          "metadata": {},
          "execution_count": 32
        }
      ]
    },
    {
      "cell_type": "markdown",
      "source": [
        "### `Q-9:` You are given a array ($arr ∈ [0, 1]$). First you have round off the elements upto 3 decimal places and compare that\n",
        "- 0th percentile == minimum value of the array\n",
        "- 100th percentile == maximum value of the array\n",
        "- also find the difference betwen 51th percenile and 50th percentile values"
      ],
      "metadata": {
        "id": "cXj90Susl4-I"
      }
    },
    {
      "cell_type": "code",
      "source": [
        "# code here\n",
        "arr = np.random.random(100)\n",
        "arr = np.around(arr, decimals = 3)\n",
        "arr\n",
        "\n",
        "print(np.percentile(arr, 0) == arr.min())\n",
        "print(np.percentile(arr, 100) == arr.max())\n",
        "print((np.percentile(arr,51) - np.percentile(arr, 50)))"
      ],
      "metadata": {
        "id": "SgBEHodgl7Lo",
        "colab": {
          "base_uri": "https://localhost:8080/"
        },
        "outputId": "acd11f5e-48f6-45d0-8cad-f61954b6a0fb"
      },
      "execution_count": 34,
      "outputs": [
        {
          "output_type": "stream",
          "name": "stdout",
          "text": [
            "True\n",
            "True\n",
            "0.0034399999999999986\n"
          ]
        }
      ]
    },
    {
      "cell_type": "code",
      "source": [],
      "metadata": {
        "id": "8j9yizesVsFe"
      },
      "execution_count": null,
      "outputs": []
    }
  ]
}