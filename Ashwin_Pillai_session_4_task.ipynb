{
  "nbformat": 4,
  "nbformat_minor": 0,
  "metadata": {
    "colab": {
      "provenance": []
    },
    "kernelspec": {
      "name": "python3",
      "display_name": "Python 3"
    },
    "language_info": {
      "name": "python"
    }
  },
  "cells": [
    {
      "cell_type": "markdown",
      "source": [
        "###`Problem 1:` Combine two lists index-wise(columns wise)\n",
        "\n",
        "Write a program to add two lists index-wise. Create a new list that contains the 0th index item from both the list, then the 1st index item, and so on till the last element. any leftover items will get added at the end of the new list.\n",
        "\n",
        "`Given List:`\n",
        "```\n",
        "list1 = [\"M\", \"na\", \"i\", \"Kh\"]\n",
        "list2 = [\"y\", \"me\", \"s\", \"an\"]\n",
        "```\n",
        "\n",
        "`Output:`\n",
        "```\n",
        "[['M','y'], ['na', me'], ['i', 's'], ['Kh', 'an']]\n",
        "```"
      ],
      "metadata": {
        "id": "kLZ_vCeE0lsM"
      }
    },
    {
      "cell_type": "code",
      "source": [
        "list1 = [\"M\", \"na\", \"i\", \"Kh\"]\n",
        "list2 = [\"y\", \"me\", \"s\", \"an\"]"
      ],
      "metadata": {
        "id": "yJCN3XrEfF7K"
      },
      "execution_count": null,
      "outputs": []
    },
    {
      "cell_type": "code",
      "source": [
        "combined = [[list1[i], list2[i]] for i in range (0, len(list1))]\n",
        "combined"
      ],
      "metadata": {
        "colab": {
          "base_uri": "https://localhost:8080/"
        },
        "id": "_Zszt-M9fcmm",
        "outputId": "9cd5007f-ec28-4a63-f668-8c228333ffa4"
      },
      "execution_count": null,
      "outputs": [
        {
          "output_type": "execute_result",
          "data": {
            "text/plain": [
              "[['M', 'y'], ['na', 'me'], ['i', 's'], ['Kh', 'an']]"
            ]
          },
          "metadata": {},
          "execution_count": 21
        }
      ]
    },
    {
      "cell_type": "markdown",
      "source": [
        "### `Problem 2:` Add new item to list after a specified item\n",
        "Write a program to add item 7000 after 6000 in the following Python List\n",
        "```\n",
        "list1 = [10, 20, [300, 400, [5000, 6000], 500], 30, 40]\n",
        "```\n",
        "`Output:`\n",
        "```\n",
        "[10, 20, [300, 400, [5000, 6000, 7000], 500], 30, 40]\n",
        "```"
      ],
      "metadata": {
        "id": "bnRwRgf_0qLu"
      }
    },
    {
      "cell_type": "code",
      "source": [
        "list1 = [10, 20, [300, 400, [5000, 6000], 500], 30, 40]\n",
        "list1[2][2].append(7000)\n",
        "print(list1)"
      ],
      "metadata": {
        "id": "yW5lLPns00q9",
        "colab": {
          "base_uri": "https://localhost:8080/"
        },
        "outputId": "33195f91-1d7f-40fc-e2ee-6abdeb0beedb"
      },
      "execution_count": null,
      "outputs": [
        {
          "output_type": "stream",
          "name": "stdout",
          "text": [
            "[10, 20, [300, 400, [5000, 6000, 7000], 500], 30, 40]\n"
          ]
        }
      ]
    },
    {
      "cell_type": "markdown",
      "source": [
        "###`Problem 3:` Update no of items available\n",
        "\n",
        "Suppose you are given a list of candy and another list of same size representing no of items of respective candy.\n",
        "\n",
        "i.e -  \n",
        "```\n",
        "candy_list = ['Jelly Belly','Kit Kat','Double Bubble','Milky Way','Three Musketeers']\n",
        "no_of_items = [10,20,34,74,32]\n",
        "```\n",
        "\n",
        "Write a program to show no. of items of each candy type.\n",
        "\n",
        "`Output:`\n",
        "\n",
        "```\n",
        "Jelly Belly-10\n",
        "Kit Kat-20\n",
        "Double Bubble-34\n",
        "Milky Way-74\n",
        "Three Musketeers-32\n",
        "\n",
        "```"
      ],
      "metadata": {
        "id": "w7fC8oHk02fH"
      }
    },
    {
      "cell_type": "code",
      "source": [
        "candy_list = ['Jelly Belly','Kit Kat','Double Bubble','Milky Way','Three Musketeers']\n",
        "no_of_items = [10,20,34,74,32]\n",
        "\n",
        "for i,j in zip(candy_list, no_of_items):\n",
        "    print(f\"{i} - {j}\")"
      ],
      "metadata": {
        "id": "gg5JEX1a09q8",
        "colab": {
          "base_uri": "https://localhost:8080/"
        },
        "outputId": "2ffd9006-6bd9-4544-a0e1-01c3d04d717b"
      },
      "execution_count": null,
      "outputs": [
        {
          "output_type": "stream",
          "name": "stdout",
          "text": [
            "Jelly Belly - 10\n",
            "Kit Kat - 20\n",
            "Double Bubble - 34\n",
            "Milky Way - 74\n",
            "Three Musketeers - 32\n"
          ]
        }
      ]
    },
    {
      "cell_type": "markdown",
      "source": [
        "###`Problem 4:` Running Sum on list\n",
        "Write a program to print a list after performing running sum on it.\n",
        "\n",
        "i.e:\n",
        "\n",
        "`Input:`\n",
        "```\n",
        "list1 = [1,2,3,4,5,6]\n",
        "```\n",
        "`Output:`\n",
        "```\n",
        "[1,3,6,10,15,21]\n",
        "```"
      ],
      "metadata": {
        "id": "mFGZAvnB1D3N"
      }
    },
    {
      "cell_type": "code",
      "source": [
        "# Write code here\n",
        "list1 = [1,2,3,4,5,6]\n",
        "\n",
        "new = []\n",
        "sum = 0\n",
        "for i in list1:\n",
        "    sum += i\n",
        "    new.append(sum)\n",
        "\n",
        "print(new)"
      ],
      "metadata": {
        "id": "8LPS6DaD1FTs",
        "colab": {
          "base_uri": "https://localhost:8080/"
        },
        "outputId": "a1008176-3894-4a13-b422-91a90ec8caa8"
      },
      "execution_count": null,
      "outputs": [
        {
          "output_type": "stream",
          "name": "stdout",
          "text": [
            "[1, 3, 6, 10, 15, 21]\n"
          ]
        }
      ]
    },
    {
      "cell_type": "markdown",
      "source": [
        "###`Problem 5:` You are given a list of integers. You are asked to make a list by running through elements of the list by adding all elements greater and itself.\n",
        "\n",
        "i.e. Say given list is `[2,4,6,10,1]`\n",
        "resultant list will be `[22,20,10,23]`.\n",
        "\n",
        "For 1st element `2` ->> these are greater `(4+6+10)` values and `2` itself so on adding becomes `22`.\n",
        "\n",
        "For 2nd element `4` ->> greater elements are `(6, 10)` and `4` itself, so on adding `20`\n",
        "\n",
        "like wise for all other elememts.\n",
        "\n",
        "`[2,4,6,10,1]`-->`[22,20,16,10,23]`\n",
        "\n",
        "\n"
      ],
      "metadata": {
        "id": "2ztcZ-EW1HEU"
      }
    },
    {
      "cell_type": "code",
      "source": [
        "# Write code here\n",
        "li = [2,4,6,10,1]\n",
        "\n",
        "new = []\n",
        "sum = 0\n",
        "for i in li:\n",
        "    sum = 0\n",
        "    for j in li:\n",
        "        if i < j:\n",
        "            sum += j\n",
        "    new.append(i + sum)\n",
        "\n",
        "print(sum)\n",
        "print(new)"
      ],
      "metadata": {
        "id": "UJuWqzj31UD2",
        "colab": {
          "base_uri": "https://localhost:8080/"
        },
        "outputId": "52a9d591-b654-41d4-c0c7-b6a2885e7058"
      },
      "execution_count": null,
      "outputs": [
        {
          "output_type": "stream",
          "name": "stdout",
          "text": [
            "22\n",
            "[22, 20, 16, 10, 23]\n"
          ]
        }
      ]
    },
    {
      "cell_type": "markdown",
      "source": [
        "###`Problem 6:` Find list of common unique items from two list. and show in increasing order\n",
        "\n",
        "`Input`\n",
        "\n",
        "```\n",
        "num1 = [23,45,67,78,89,34]\n",
        "num2 = [34,89,55,56,39,67]\n",
        "```\n",
        "\n",
        "`Output:`\n",
        "```\n",
        "[34, 67, 89]\n",
        "```\n"
      ],
      "metadata": {
        "id": "c9H6tYTx1ZYo"
      }
    },
    {
      "cell_type": "code",
      "source": [
        "# Write code here\n",
        "num1 = [23,45,67,78,89,34]\n",
        "num2 = [34,89,55,56,39,67]\n",
        "\n",
        "a = [i for i in num1 for j in num2 if i == j]\n",
        "a.sort()\n",
        "print(a)"
      ],
      "metadata": {
        "id": "dDxdi7eE1e1W",
        "colab": {
          "base_uri": "https://localhost:8080/"
        },
        "outputId": "e5260925-fb4f-4b5a-8fff-1094a1023020"
      },
      "execution_count": null,
      "outputs": [
        {
          "output_type": "stream",
          "name": "stdout",
          "text": [
            "[34, 67, 89]\n"
          ]
        }
      ]
    },
    {
      "cell_type": "markdown",
      "source": [
        "###`Problem 7:` Sort a list of alphanumeric strings based on product value of numeric character in it. If in any string there is no numeric character take it's product value as 1.\n",
        "\n",
        "`Input:`\n",
        "```\n",
        "['1ac21', '23fg', '456', '098d','1','kls']\n",
        "```\n",
        "\n",
        "`Output:`\n",
        "```\n",
        "['456', '23fg', '1ac21', '1', 'kls', '098d']\n",
        "\n",
        "```"
      ],
      "metadata": {
        "id": "i3Izok2i1gRD"
      }
    },
    {
      "cell_type": "code",
      "source": [
        "input_list = ['1ac21', '23fg', '456', '098d', '1', 'kls']\n",
        "product_value_list = []\n",
        "\n",
        "for s in input_list:\n",
        "    product = 1\n",
        "    has_digit = False\n",
        "    for char in s:\n",
        "        if char.isdigit():\n",
        "            product *= int(char)\n",
        "            has_digit = True\n",
        "    if not has_digit:\n",
        "        product = 1\n",
        "    product_value_list.append((product, s))\n",
        "\n",
        "# Sort the list of tuples based on the product_value in descending order\n",
        "product_value_list.sort(key=lambda x: x[0], reverse=True)\n",
        "\n",
        "# Extract the sorted strings from the list of tuples\n",
        "sorted_list = [item[1] for item in product_value_list]\n",
        "\n",
        "# Output the sorted list\n",
        "print(sorted_list)"
      ],
      "metadata": {
        "id": "eiXSanG11oq6",
        "colab": {
          "base_uri": "https://localhost:8080/"
        },
        "outputId": "72eb2f26-d316-4fa9-9fa3-0350dde1ee64"
      },
      "execution_count": null,
      "outputs": [
        {
          "output_type": "stream",
          "name": "stdout",
          "text": [
            "['456', '23fg', '1ac21', '1', 'kls', '098d']\n"
          ]
        }
      ]
    },
    {
      "cell_type": "markdown",
      "source": [
        "`Problem 8:` Split String of list on K character.\n",
        "\n",
        "**Example :**\n",
        "\n",
        "Input:\n",
        "```bash\n",
        "['CampusX is a channel', 'for data-science', 'aspirants.']\n",
        "```\n",
        "\n",
        "Output:\n",
        "```bash\n",
        "['CampusX', 'is', 'a', 'channel', 'for', 'data-science', 'aspirants.']\n",
        "```"
      ],
      "metadata": {
        "id": "McMaNSpB1zJB"
      }
    },
    {
      "cell_type": "code",
      "source": [
        "# Write code here\n",
        "input_list = ['CampusX is a channel', 'for data-science', 'aspirants.']\n",
        "\n",
        "# Using list comprehension to split each string and flatten the result\n",
        "output = [word for i in input_list for word in i.split()]\n",
        "output"
      ],
      "metadata": {
        "id": "rLg6AUhf14wI",
        "colab": {
          "base_uri": "https://localhost:8080/"
        },
        "outputId": "3300c846-94d2-4294-854c-caf53a7c6a3a"
      },
      "execution_count": 7,
      "outputs": [
        {
          "output_type": "execute_result",
          "data": {
            "text/plain": [
              "['CampusX', 'is', 'a', 'channel', 'for', 'data-science', 'aspirants.']"
            ]
          },
          "metadata": {},
          "execution_count": 7
        }
      ]
    },
    {
      "cell_type": "markdown",
      "source": [
        "### `Problem 9:` Convert Character Matrix to single String using string comprehension.\n",
        "\n",
        "**Example 1:**\n",
        "\n",
        "Input:\n",
        "```bash\n",
        "[['c', 'a', 'm', 'p', 'u', 'x'], ['i', 's'], ['b', 'e', 's', 't'], ['c', 'h', 'a', 'n', 'n', 'e', 'l']]\n",
        "```\n",
        "\n",
        "Output:\n",
        "```bash\n",
        "campux is best channel\n",
        "```"
      ],
      "metadata": {
        "id": "ebqIC0Xa16dG"
      }
    },
    {
      "cell_type": "code",
      "source": [
        "# Write code here\n",
        "li = [['c', 'a', 'm', 'p', 'u', 'x'], ['i', 's'], ['b', 'e', 's', 't'], ['c', 'h', 'a', 'n', 'n', 'e', 'l']]\n",
        "\n",
        "a = ' '.join([''.join(i) for i in li])\n",
        "print(a)"
      ],
      "metadata": {
        "id": "KLKxzyZf2BLr",
        "colab": {
          "base_uri": "https://localhost:8080/"
        },
        "outputId": "51961baf-e79e-4c10-f631-da8eeab18fcb"
      },
      "execution_count": 14,
      "outputs": [
        {
          "output_type": "stream",
          "name": "stdout",
          "text": [
            "campux is best channel\n"
          ]
        }
      ]
    },
    {
      "cell_type": "markdown",
      "source": [
        "### `Problem 10:` Add Space between Potential Words.\n",
        "\n",
        "**Example:**\n",
        "\n",
        "Input:\n",
        "\n",
        "```bash\n",
        "['campusxIs', 'bestFor', 'dataScientist']\n",
        "```\n",
        "\n",
        "Output:\n",
        "```bash\n",
        "['campusx Is', 'best For', 'data Scientist']\n",
        "```"
      ],
      "metadata": {
        "id": "0v1Z3Snp2DAm"
      }
    },
    {
      "cell_type": "code",
      "source": [
        "input_list = ['campusxIs', 'bestFor', 'dataScientist']\n",
        "\n",
        "output_list = [''.join([' ' + char if char.isupper() else char for char in word]) for word in input_list]\n",
        "\n",
        "print(output_list)"
      ],
      "metadata": {
        "id": "pltvqSXa2IxP",
        "colab": {
          "base_uri": "https://localhost:8080/"
        },
        "outputId": "134d2fd9-b104-4ea0-aae5-b8f682980f63"
      },
      "execution_count": 17,
      "outputs": [
        {
          "output_type": "stream",
          "name": "stdout",
          "text": [
            "['campusx Is', 'best For', 'data Scientist']\n"
          ]
        }
      ]
    },
    {
      "cell_type": "markdown",
      "source": [
        "### `Problem 11:` Write a program that can perform union operation on 2 lists\n",
        "\n",
        "**Example:**\n",
        "\n",
        "Input:\n",
        "\n",
        "```bash\n",
        "[1,2,3,4,5,1]\n",
        "[2,3,5,7,8]\n",
        "```\n",
        "\n",
        "Output:\n",
        "```bash\n",
        "[1,2,3,4,5,7,8]\n",
        "```"
      ],
      "metadata": {
        "id": "tnmBk1M52KXW"
      }
    },
    {
      "cell_type": "code",
      "source": [
        "# Write code here\n",
        "l1 = [1,2,3,4,5,1]\n",
        "l2 = [2,3,5,7,8]\n",
        "\n",
        "a = l1 + l2\n",
        "print(list(set(a)))"
      ],
      "metadata": {
        "id": "u0AgIToU2-Ht",
        "colab": {
          "base_uri": "https://localhost:8080/"
        },
        "outputId": "7f97a02e-fcb2-4505-bfbc-6e6ad4c4b801"
      },
      "execution_count": 25,
      "outputs": [
        {
          "output_type": "stream",
          "name": "stdout",
          "text": [
            "[1, 2, 3, 4, 5, 7, 8]\n"
          ]
        }
      ]
    },
    {
      "cell_type": "markdown",
      "source": [
        "### `Problem 12:` Write a program that can find the max number of each row of a matrix\n",
        "\n",
        "**Example:**\n",
        "\n",
        "Input:\n",
        "\n",
        "```bash\n",
        "[[1,2,3],[4,5,6],[7,8,9]]\n",
        "```\n",
        "\n",
        "Output:\n",
        "```bash\n",
        "[3,6,9]\n",
        "```"
      ],
      "metadata": {
        "id": "Yt8x67Ch3Ow1"
      }
    },
    {
      "cell_type": "code",
      "source": [
        "# Write code here\n",
        "li = [[1,2,3],[4,5,6],[7,8,9]]\n",
        "\n",
        "a = [max(i) for i in li]\n",
        "print(a)"
      ],
      "metadata": {
        "id": "7QopAaAI3noh",
        "colab": {
          "base_uri": "https://localhost:8080/"
        },
        "outputId": "a57d116f-117f-4a29-e7c4-9f47be7427c8"
      },
      "execution_count": 26,
      "outputs": [
        {
          "output_type": "stream",
          "name": "stdout",
          "text": [
            "[3, 6, 9]\n"
          ]
        }
      ]
    },
    {
      "cell_type": "markdown",
      "source": [
        "### `Problem 13:` Write a list comprehension to print the following matrix\n",
        "\n",
        "[[0, 1, 2], [3, 4, 5], [6, 7, 8]]"
      ],
      "metadata": {
        "id": "DBZlUmnt3pGT"
      }
    },
    {
      "cell_type": "code",
      "source": [
        "# Write code here\n",
        "matrix = [[i + j for j in range(3)] for i in range(0, 9, 3)]\n",
        "\n",
        "print(matrix)\n"
      ],
      "metadata": {
        "id": "Ip4e8M-S356h",
        "colab": {
          "base_uri": "https://localhost:8080/"
        },
        "outputId": "f04c2b34-fcea-4d56-a712-6fe01237f071"
      },
      "execution_count": 27,
      "outputs": [
        {
          "output_type": "stream",
          "name": "stdout",
          "text": [
            "[[0, 1, 2], [3, 4, 5], [6, 7, 8]]\n"
          ]
        }
      ]
    },
    {
      "cell_type": "markdown",
      "source": [
        "### `Problem 14:` Write a list comprehension that can transpose a given matrix\n",
        "\n",
        "matrix = [<br>\n",
        "  [1,2,3],<br>\n",
        "          [4,5,6],<br>\n",
        "          [7,8,9]<br>]<br>\n",
        "\n",
        "[1, 4, 7]<br>\n",
        "[2, 5, 8]<br>\n",
        "[3, 6, 9]<br>"
      ],
      "metadata": {
        "id": "j3vTuFC737kG"
      }
    },
    {
      "cell_type": "code",
      "source": [
        "matrix = [\n",
        "    [1, 2, 3],\n",
        "    [4, 5, 6],\n",
        "    [7, 8, 9]\n",
        "]\n",
        "\n",
        "transposed_matrix = [[matrix[j][i] for j in range(len(matrix))] for i in range(len(matrix[0]))]\n",
        "\n",
        "print(transposed_matrix)"
      ],
      "metadata": {
        "id": "CcBNu0gk4XsR",
        "colab": {
          "base_uri": "https://localhost:8080/"
        },
        "outputId": "00cb56bc-6daa-4d93-ec72-f2273983e0e3"
      },
      "execution_count": 30,
      "outputs": [
        {
          "output_type": "stream",
          "name": "stdout",
          "text": [
            "[[1, 4, 7], [2, 5, 8], [3, 6, 9]]\n"
          ]
        }
      ]
    },
    {
      "cell_type": "markdown",
      "source": [
        "### `Problem 15:` Write a list comprehension that can flatten a nested list\n",
        "\n",
        "Input<br>\n",
        "matrix = [<br>\n",
        "  [1,2,3],<br>\n",
        "          [4,5,6],<br>\n",
        "          [7,8,9]<br>]<br>\n",
        "\n",
        "Output:<br>\n",
        "[1, 2, 3, 4, 5, 6, 7, 8, 9]"
      ],
      "metadata": {
        "id": "wRkSWFb74eOt"
      }
    },
    {
      "cell_type": "code",
      "source": [
        "# Write code here\n",
        "matrix = [\n",
        "    [1, 2, 3],\n",
        "    [4, 5, 6],\n",
        "    [7, 8, 9]\n",
        "]\n",
        "\n",
        "# Flatten the matrix using list comprehension\n",
        "flattened_list = [element for row in matrix for element in row]\n",
        "\n",
        "print(flattened_list)\n"
      ],
      "metadata": {
        "id": "jZGQ5el25HFr",
        "colab": {
          "base_uri": "https://localhost:8080/"
        },
        "outputId": "8f23f9d7-c951-4ef0-80dd-5f87a6650467"
      },
      "execution_count": 31,
      "outputs": [
        {
          "output_type": "stream",
          "name": "stdout",
          "text": [
            "[1, 2, 3, 4, 5, 6, 7, 8, 9]\n"
          ]
        }
      ]
    },
    {
      "cell_type": "code",
      "source": [],
      "metadata": {
        "id": "477FWQwhHjrn"
      },
      "execution_count": null,
      "outputs": []
    }
  ]
}